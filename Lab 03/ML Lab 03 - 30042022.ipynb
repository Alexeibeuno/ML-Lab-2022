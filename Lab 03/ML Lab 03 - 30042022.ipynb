{
 "cells": [
  {
   "cell_type": "code",
   "execution_count": 260,
   "id": "33187fdc",
   "metadata": {},
   "outputs": [],
   "source": [
    "import pandas as pd\n",
    "import numpy as np\n",
    "from sklearn.model_selection import train_test_split\n",
    "import seaborn as sns\n",
    "from sklearn.linear_model import LogisticRegression\n",
    "import matplotlib.pyplot as plt"
   ]
  },
  {
   "cell_type": "code",
   "execution_count": 261,
   "id": "d6a76079",
   "metadata": {},
   "outputs": [],
   "source": [
    "df = pd.read_csv('pokemon_alopez247.csv')"
   ]
  },
  {
   "cell_type": "code",
   "execution_count": 262,
   "id": "8c58635e",
   "metadata": {
    "scrolled": true
   },
   "outputs": [
    {
     "data": {
      "text/html": [
       "<div>\n",
       "<style scoped>\n",
       "    .dataframe tbody tr th:only-of-type {\n",
       "        vertical-align: middle;\n",
       "    }\n",
       "\n",
       "    .dataframe tbody tr th {\n",
       "        vertical-align: top;\n",
       "    }\n",
       "\n",
       "    .dataframe thead th {\n",
       "        text-align: right;\n",
       "    }\n",
       "</style>\n",
       "<table border=\"1\" class=\"dataframe\">\n",
       "  <thead>\n",
       "    <tr style=\"text-align: right;\">\n",
       "      <th></th>\n",
       "      <th>Number</th>\n",
       "      <th>Name</th>\n",
       "      <th>Type_1</th>\n",
       "      <th>Type_2</th>\n",
       "      <th>Total</th>\n",
       "      <th>HP</th>\n",
       "      <th>Attack</th>\n",
       "      <th>Defense</th>\n",
       "      <th>Sp_Atk</th>\n",
       "      <th>Sp_Def</th>\n",
       "      <th>...</th>\n",
       "      <th>Color</th>\n",
       "      <th>hasGender</th>\n",
       "      <th>Pr_Male</th>\n",
       "      <th>Egg_Group_1</th>\n",
       "      <th>Egg_Group_2</th>\n",
       "      <th>hasMegaEvolution</th>\n",
       "      <th>Height_m</th>\n",
       "      <th>Weight_kg</th>\n",
       "      <th>Catch_Rate</th>\n",
       "      <th>Body_Style</th>\n",
       "    </tr>\n",
       "  </thead>\n",
       "  <tbody>\n",
       "    <tr>\n",
       "      <th>0</th>\n",
       "      <td>1</td>\n",
       "      <td>Bulbasaur</td>\n",
       "      <td>Grass</td>\n",
       "      <td>Poison</td>\n",
       "      <td>318</td>\n",
       "      <td>45</td>\n",
       "      <td>49</td>\n",
       "      <td>49</td>\n",
       "      <td>65</td>\n",
       "      <td>65</td>\n",
       "      <td>...</td>\n",
       "      <td>Green</td>\n",
       "      <td>True</td>\n",
       "      <td>0.875</td>\n",
       "      <td>Monster</td>\n",
       "      <td>Grass</td>\n",
       "      <td>False</td>\n",
       "      <td>0.71</td>\n",
       "      <td>6.9</td>\n",
       "      <td>45</td>\n",
       "      <td>quadruped</td>\n",
       "    </tr>\n",
       "    <tr>\n",
       "      <th>1</th>\n",
       "      <td>2</td>\n",
       "      <td>Ivysaur</td>\n",
       "      <td>Grass</td>\n",
       "      <td>Poison</td>\n",
       "      <td>405</td>\n",
       "      <td>60</td>\n",
       "      <td>62</td>\n",
       "      <td>63</td>\n",
       "      <td>80</td>\n",
       "      <td>80</td>\n",
       "      <td>...</td>\n",
       "      <td>Green</td>\n",
       "      <td>True</td>\n",
       "      <td>0.875</td>\n",
       "      <td>Monster</td>\n",
       "      <td>Grass</td>\n",
       "      <td>False</td>\n",
       "      <td>0.99</td>\n",
       "      <td>13.0</td>\n",
       "      <td>45</td>\n",
       "      <td>quadruped</td>\n",
       "    </tr>\n",
       "    <tr>\n",
       "      <th>2</th>\n",
       "      <td>3</td>\n",
       "      <td>Venusaur</td>\n",
       "      <td>Grass</td>\n",
       "      <td>Poison</td>\n",
       "      <td>525</td>\n",
       "      <td>80</td>\n",
       "      <td>82</td>\n",
       "      <td>83</td>\n",
       "      <td>100</td>\n",
       "      <td>100</td>\n",
       "      <td>...</td>\n",
       "      <td>Green</td>\n",
       "      <td>True</td>\n",
       "      <td>0.875</td>\n",
       "      <td>Monster</td>\n",
       "      <td>Grass</td>\n",
       "      <td>True</td>\n",
       "      <td>2.01</td>\n",
       "      <td>100.0</td>\n",
       "      <td>45</td>\n",
       "      <td>quadruped</td>\n",
       "    </tr>\n",
       "    <tr>\n",
       "      <th>3</th>\n",
       "      <td>4</td>\n",
       "      <td>Charmander</td>\n",
       "      <td>Fire</td>\n",
       "      <td>NaN</td>\n",
       "      <td>309</td>\n",
       "      <td>39</td>\n",
       "      <td>52</td>\n",
       "      <td>43</td>\n",
       "      <td>60</td>\n",
       "      <td>50</td>\n",
       "      <td>...</td>\n",
       "      <td>Red</td>\n",
       "      <td>True</td>\n",
       "      <td>0.875</td>\n",
       "      <td>Monster</td>\n",
       "      <td>Dragon</td>\n",
       "      <td>False</td>\n",
       "      <td>0.61</td>\n",
       "      <td>8.5</td>\n",
       "      <td>45</td>\n",
       "      <td>bipedal_tailed</td>\n",
       "    </tr>\n",
       "    <tr>\n",
       "      <th>4</th>\n",
       "      <td>5</td>\n",
       "      <td>Charmeleon</td>\n",
       "      <td>Fire</td>\n",
       "      <td>NaN</td>\n",
       "      <td>405</td>\n",
       "      <td>58</td>\n",
       "      <td>64</td>\n",
       "      <td>58</td>\n",
       "      <td>80</td>\n",
       "      <td>65</td>\n",
       "      <td>...</td>\n",
       "      <td>Red</td>\n",
       "      <td>True</td>\n",
       "      <td>0.875</td>\n",
       "      <td>Monster</td>\n",
       "      <td>Dragon</td>\n",
       "      <td>False</td>\n",
       "      <td>1.09</td>\n",
       "      <td>19.0</td>\n",
       "      <td>45</td>\n",
       "      <td>bipedal_tailed</td>\n",
       "    </tr>\n",
       "  </tbody>\n",
       "</table>\n",
       "<p>5 rows × 23 columns</p>\n",
       "</div>"
      ],
      "text/plain": [
       "   Number        Name Type_1  Type_2  Total  HP  Attack  Defense  Sp_Atk  \\\n",
       "0       1   Bulbasaur  Grass  Poison    318  45      49       49      65   \n",
       "1       2     Ivysaur  Grass  Poison    405  60      62       63      80   \n",
       "2       3    Venusaur  Grass  Poison    525  80      82       83     100   \n",
       "3       4  Charmander   Fire     NaN    309  39      52       43      60   \n",
       "4       5  Charmeleon   Fire     NaN    405  58      64       58      80   \n",
       "\n",
       "   Sp_Def  ...  Color  hasGender  Pr_Male Egg_Group_1  Egg_Group_2  \\\n",
       "0      65  ...  Green       True    0.875     Monster        Grass   \n",
       "1      80  ...  Green       True    0.875     Monster        Grass   \n",
       "2     100  ...  Green       True    0.875     Monster        Grass   \n",
       "3      50  ...    Red       True    0.875     Monster       Dragon   \n",
       "4      65  ...    Red       True    0.875     Monster       Dragon   \n",
       "\n",
       "   hasMegaEvolution Height_m Weight_kg  Catch_Rate      Body_Style  \n",
       "0             False     0.71       6.9          45       quadruped  \n",
       "1             False     0.99      13.0          45       quadruped  \n",
       "2              True     2.01     100.0          45       quadruped  \n",
       "3             False     0.61       8.5          45  bipedal_tailed  \n",
       "4             False     1.09      19.0          45  bipedal_tailed  \n",
       "\n",
       "[5 rows x 23 columns]"
      ]
     },
     "execution_count": 262,
     "metadata": {},
     "output_type": "execute_result"
    }
   ],
   "source": [
    "df.head()"
   ]
  },
  {
   "cell_type": "code",
   "execution_count": 263,
   "id": "a9651dbe",
   "metadata": {
    "scrolled": true
   },
   "outputs": [
    {
     "data": {
      "text/plain": [
       "Index(['Number', 'Name', 'Type_1', 'Type_2', 'Total', 'HP', 'Attack',\n",
       "       'Defense', 'Sp_Atk', 'Sp_Def', 'Speed', 'Generation', 'isLegendary',\n",
       "       'Color', 'hasGender', 'Pr_Male', 'Egg_Group_1', 'Egg_Group_2',\n",
       "       'hasMegaEvolution', 'Height_m', 'Weight_kg', 'Catch_Rate',\n",
       "       'Body_Style'],\n",
       "      dtype='object')"
      ]
     },
     "execution_count": 263,
     "metadata": {},
     "output_type": "execute_result"
    }
   ],
   "source": [
    "df.columns"
   ]
  },
  {
   "cell_type": "code",
   "execution_count": 264,
   "id": "a63f4629",
   "metadata": {
    "scrolled": true
   },
   "outputs": [
    {
     "data": {
      "text/plain": [
       "(721, 23)"
      ]
     },
     "execution_count": 264,
     "metadata": {},
     "output_type": "execute_result"
    }
   ],
   "source": [
    "df.shape"
   ]
  },
  {
   "cell_type": "code",
   "execution_count": 265,
   "id": "366a9f0a",
   "metadata": {},
   "outputs": [
    {
     "name": "stdout",
     "output_type": "stream",
     "text": [
      "<class 'pandas.core.frame.DataFrame'>\n",
      "RangeIndex: 721 entries, 0 to 720\n",
      "Data columns (total 23 columns):\n",
      " #   Column            Non-Null Count  Dtype  \n",
      "---  ------            --------------  -----  \n",
      " 0   Number            721 non-null    int64  \n",
      " 1   Name              721 non-null    object \n",
      " 2   Type_1            721 non-null    object \n",
      " 3   Type_2            350 non-null    object \n",
      " 4   Total             721 non-null    int64  \n",
      " 5   HP                721 non-null    int64  \n",
      " 6   Attack            721 non-null    int64  \n",
      " 7   Defense           721 non-null    int64  \n",
      " 8   Sp_Atk            721 non-null    int64  \n",
      " 9   Sp_Def            721 non-null    int64  \n",
      " 10  Speed             721 non-null    int64  \n",
      " 11  Generation        721 non-null    int64  \n",
      " 12  isLegendary       721 non-null    bool   \n",
      " 13  Color             721 non-null    object \n",
      " 14  hasGender         721 non-null    bool   \n",
      " 15  Pr_Male           644 non-null    float64\n",
      " 16  Egg_Group_1       721 non-null    object \n",
      " 17  Egg_Group_2       191 non-null    object \n",
      " 18  hasMegaEvolution  721 non-null    bool   \n",
      " 19  Height_m          721 non-null    float64\n",
      " 20  Weight_kg         721 non-null    float64\n",
      " 21  Catch_Rate        721 non-null    int64  \n",
      " 22  Body_Style        721 non-null    object \n",
      "dtypes: bool(3), float64(3), int64(10), object(7)\n",
      "memory usage: 114.9+ KB\n"
     ]
    }
   ],
   "source": [
    "df.info()"
   ]
  },
  {
   "cell_type": "code",
   "execution_count": 266,
   "id": "e3c04258",
   "metadata": {},
   "outputs": [
    {
     "data": {
      "text/plain": [
       "Number              721\n",
       "Name                721\n",
       "Type_1               18\n",
       "Type_2               18\n",
       "Total               183\n",
       "HP                   94\n",
       "Attack              100\n",
       "Defense              97\n",
       "Sp_Atk               94\n",
       "Sp_Def               90\n",
       "Speed               101\n",
       "Generation            6\n",
       "isLegendary           2\n",
       "Color                10\n",
       "hasGender             2\n",
       "Pr_Male               7\n",
       "Egg_Group_1          15\n",
       "Egg_Group_2          13\n",
       "hasMegaEvolution      2\n",
       "Height_m             50\n",
       "Weight_kg           398\n",
       "Catch_Rate           33\n",
       "Body_Style           14\n",
       "dtype: int64"
      ]
     },
     "execution_count": 266,
     "metadata": {},
     "output_type": "execute_result"
    }
   ],
   "source": [
    "df.nunique()"
   ]
  },
  {
   "cell_type": "markdown",
   "id": "589daa86",
   "metadata": {},
   "source": [
    "Categorical Variables: Type_1, Type_2, Generation, isLegendary, Color, hasGender, Pr_Male, Egg_Group_1, Egg_Group_2, hasMegaEvolution, Body_Style"
   ]
  },
  {
   "cell_type": "code",
   "execution_count": 267,
   "id": "abb86fc5",
   "metadata": {},
   "outputs": [
    {
     "data": {
      "text/plain": [
       "Type_1    isLegendary\n",
       "Bug       False           63\n",
       "Dark      False           26\n",
       "          True             2\n",
       "Dragon    False           17\n",
       "          True             7\n",
       "Electric  False           33\n",
       "          True             3\n",
       "Fairy     False           16\n",
       "          True             1\n",
       "Fighting  False           25\n",
       "Fire      False           42\n",
       "          True             5\n",
       "Flying    False            2\n",
       "          True             1\n",
       "Ghost     False           22\n",
       "          True             1\n",
       "Grass     False           64\n",
       "          True             2\n",
       "Ground    False           28\n",
       "          True             2\n",
       "Ice       False           21\n",
       "          True             2\n",
       "Normal    False           91\n",
       "          True             2\n",
       "Poison    False           28\n",
       "Psychic   False           39\n",
       "          True             8\n",
       "Rock      False           38\n",
       "          True             3\n",
       "Steel     False           18\n",
       "          True             4\n",
       "Water     False          102\n",
       "          True             3\n",
       "Name: isLegendary, dtype: int64"
      ]
     },
     "execution_count": 267,
     "metadata": {},
     "output_type": "execute_result"
    }
   ],
   "source": [
    "df.groupby('Type_1')['isLegendary'].value_counts()"
   ]
  },
  {
   "cell_type": "markdown",
   "id": "368a10f2",
   "metadata": {},
   "source": [
    "Psychic type has the highest legendary pokemon"
   ]
  },
  {
   "cell_type": "code",
   "execution_count": 268,
   "id": "fdbccc11",
   "metadata": {},
   "outputs": [
    {
     "data": {
      "text/plain": [
       "Generation  isLegendary\n",
       "1           False          147\n",
       "            True             4\n",
       "2           False           95\n",
       "            True             5\n",
       "3           False          125\n",
       "            True            10\n",
       "4           False           96\n",
       "            True            11\n",
       "5           False          146\n",
       "            True            10\n",
       "6           False           66\n",
       "            True             6\n",
       "Name: isLegendary, dtype: int64"
      ]
     },
     "execution_count": 268,
     "metadata": {},
     "output_type": "execute_result"
    }
   ],
   "source": [
    "df.groupby('Generation')['isLegendary'].value_counts()"
   ]
  },
  {
   "cell_type": "markdown",
   "id": "6bf57520",
   "metadata": {},
   "source": [
    "Generation 4 has the highest legendary pokemon"
   ]
  },
  {
   "cell_type": "code",
   "execution_count": 269,
   "id": "9ae72825",
   "metadata": {},
   "outputs": [
    {
     "data": {
      "text/plain": [
       "Color   isLegendary\n",
       "Black   False           29\n",
       "        True             3\n",
       "Blue    False          125\n",
       "        True             9\n",
       "Brown   False          105\n",
       "        True             5\n",
       "Green   False           74\n",
       "        True             5\n",
       "Grey    False           65\n",
       "        True             4\n",
       "Pink    False           39\n",
       "        True             2\n",
       "Purple  False           62\n",
       "        True             3\n",
       "Red     False           70\n",
       "        True             5\n",
       "White   False           48\n",
       "        True             4\n",
       "Yellow  False           58\n",
       "        True             6\n",
       "Name: isLegendary, dtype: int64"
      ]
     },
     "execution_count": 269,
     "metadata": {},
     "output_type": "execute_result"
    }
   ],
   "source": [
    "df.groupby('Color')['isLegendary'].value_counts()"
   ]
  },
  {
   "cell_type": "markdown",
   "id": "d70d440f",
   "metadata": {},
   "source": [
    "Blue colored pokemon turns out to be more legendary"
   ]
  },
  {
   "cell_type": "code",
   "execution_count": 270,
   "id": "172a5f4a",
   "metadata": {},
   "outputs": [
    {
     "data": {
      "text/plain": [
       "hasGender  isLegendary\n",
       "False      True            40\n",
       "           False           37\n",
       "True       False          638\n",
       "           True             6\n",
       "Name: isLegendary, dtype: int64"
      ]
     },
     "execution_count": 270,
     "metadata": {},
     "output_type": "execute_result"
    }
   ],
   "source": [
    "df.groupby('hasGender')['isLegendary'].value_counts()"
   ]
  },
  {
   "cell_type": "markdown",
   "id": "96aa7bce",
   "metadata": {},
   "source": [
    "Most legendary pokemon do not have gender"
   ]
  },
  {
   "cell_type": "code",
   "execution_count": 271,
   "id": "24b136f3",
   "metadata": {},
   "outputs": [
    {
     "data": {
      "text/plain": [
       "Egg_Group_1   isLegendary\n",
       "Amorphous     False           41\n",
       "Bug           False           66\n",
       "Ditto         False            1\n",
       "Dragon        False           10\n",
       "Fairy         False           30\n",
       "Field         False          169\n",
       "Flying        False           44\n",
       "Grass         False           27\n",
       "Human-Like    False           37\n",
       "Mineral       False           46\n",
       "Monster       False           74\n",
       "Undiscovered  True            46\n",
       "              False           27\n",
       "Water_1       False           74\n",
       "Water_2       False           15\n",
       "Water_3       False           14\n",
       "Name: isLegendary, dtype: int64"
      ]
     },
     "execution_count": 271,
     "metadata": {},
     "output_type": "execute_result"
    }
   ],
   "source": [
    "df.groupby('Egg_Group_1')['isLegendary'].value_counts()"
   ]
  },
  {
   "cell_type": "markdown",
   "id": "e46144ec",
   "metadata": {},
   "source": [
    "Only the undiscovered egg group is legendary"
   ]
  },
  {
   "cell_type": "code",
   "execution_count": 272,
   "id": "1cc6c5ba",
   "metadata": {},
   "outputs": [
    {
     "data": {
      "text/plain": [
       "Egg_Group_2  isLegendary\n",
       "Amorphous    False           8\n",
       "Bug          False           2\n",
       "Dragon       False          35\n",
       "Fairy        False          17\n",
       "Field        False          31\n",
       "Flying       False           6\n",
       "Grass        False          32\n",
       "Human-Like   False          15\n",
       "Mineral      False           8\n",
       "Monster      False           1\n",
       "Water_1      False          13\n",
       "Water_2      False           8\n",
       "Water_3      False          15\n",
       "Name: isLegendary, dtype: int64"
      ]
     },
     "execution_count": 272,
     "metadata": {},
     "output_type": "execute_result"
    }
   ],
   "source": [
    "df.groupby('Egg_Group_2')['isLegendary'].value_counts()"
   ]
  },
  {
   "cell_type": "code",
   "execution_count": 273,
   "id": "d9b05221",
   "metadata": {},
   "outputs": [
    {
     "data": {
      "text/plain": [
       "hasMegaEvolution  isLegendary\n",
       "False             False          634\n",
       "                  True            41\n",
       "True              False           41\n",
       "                  True             5\n",
       "Name: isLegendary, dtype: int64"
      ]
     },
     "execution_count": 273,
     "metadata": {},
     "output_type": "execute_result"
    }
   ],
   "source": [
    "df.groupby('hasMegaEvolution')['isLegendary'].value_counts()"
   ]
  },
  {
   "cell_type": "markdown",
   "id": "9b488544",
   "metadata": {},
   "source": [
    "Pokemon's that do not have mega evolution have the most number of legendary count"
   ]
  },
  {
   "cell_type": "code",
   "execution_count": 274,
   "id": "5403629b",
   "metadata": {},
   "outputs": [
    {
     "data": {
      "text/plain": [
       "Body_Style        isLegendary\n",
       "bipedal_tailed    False          150\n",
       "                  True             8\n",
       "bipedal_tailless  False          101\n",
       "                  True             8\n",
       "four_wings        False           18\n",
       "head_arms         False           35\n",
       "                  True             4\n",
       "head_base         False           30\n",
       "head_legs         False           17\n",
       "head_only         False           33\n",
       "                  True             1\n",
       "insectoid         False           30\n",
       "multiple_bodies   False           15\n",
       "quadruped         False          123\n",
       "                  True            12\n",
       "serpentine_body   False           26\n",
       "                  True             3\n",
       "several_limbs     False           13\n",
       "two_wings         False           54\n",
       "                  True             9\n",
       "with_fins         False           30\n",
       "                  True             1\n",
       "Name: isLegendary, dtype: int64"
      ]
     },
     "execution_count": 274,
     "metadata": {},
     "output_type": "execute_result"
    }
   ],
   "source": [
    "df.groupby('Body_Style')['isLegendary'].value_counts()"
   ]
  },
  {
   "cell_type": "markdown",
   "id": "4797ca0b",
   "metadata": {},
   "source": [
    "The one with quadruped is most likely to be the legendary pokemon"
   ]
  },
  {
   "cell_type": "code",
   "execution_count": 275,
   "id": "22573137",
   "metadata": {},
   "outputs": [
    {
     "data": {
      "text/html": [
       "<div>\n",
       "<style scoped>\n",
       "    .dataframe tbody tr th:only-of-type {\n",
       "        vertical-align: middle;\n",
       "    }\n",
       "\n",
       "    .dataframe tbody tr th {\n",
       "        vertical-align: top;\n",
       "    }\n",
       "\n",
       "    .dataframe thead th {\n",
       "        text-align: right;\n",
       "    }\n",
       "</style>\n",
       "<table border=\"1\" class=\"dataframe\">\n",
       "  <thead>\n",
       "    <tr style=\"text-align: right;\">\n",
       "      <th></th>\n",
       "      <th>isLegendary</th>\n",
       "      <th>Total</th>\n",
       "    </tr>\n",
       "  </thead>\n",
       "  <tbody>\n",
       "    <tr>\n",
       "      <th>0</th>\n",
       "      <td>False</td>\n",
       "      <td>272809</td>\n",
       "    </tr>\n",
       "    <tr>\n",
       "      <th>1</th>\n",
       "      <td>True</td>\n",
       "      <td>28530</td>\n",
       "    </tr>\n",
       "  </tbody>\n",
       "</table>\n",
       "</div>"
      ],
      "text/plain": [
       "   isLegendary   Total\n",
       "0        False  272809\n",
       "1         True   28530"
      ]
     },
     "execution_count": 275,
     "metadata": {},
     "output_type": "execute_result"
    }
   ],
   "source": [
    "df.groupby('isLegendary')['Total'].sum().reset_index()"
   ]
  },
  {
   "cell_type": "markdown",
   "id": "7300d929",
   "metadata": {},
   "source": [
    "There are more non-legendary pokemon as compared to legendary"
   ]
  },
  {
   "cell_type": "code",
   "execution_count": 276,
   "id": "bd85c06f",
   "metadata": {},
   "outputs": [
    {
     "data": {
      "text/html": [
       "<div>\n",
       "<style scoped>\n",
       "    .dataframe tbody tr th:only-of-type {\n",
       "        vertical-align: middle;\n",
       "    }\n",
       "\n",
       "    .dataframe tbody tr th {\n",
       "        vertical-align: top;\n",
       "    }\n",
       "\n",
       "    .dataframe thead th {\n",
       "        text-align: right;\n",
       "    }\n",
       "</style>\n",
       "<table border=\"1\" class=\"dataframe\">\n",
       "  <thead>\n",
       "    <tr style=\"text-align: right;\">\n",
       "      <th></th>\n",
       "      <th>isLegendary</th>\n",
       "      <th>HP</th>\n",
       "    </tr>\n",
       "  </thead>\n",
       "  <tbody>\n",
       "    <tr>\n",
       "      <th>0</th>\n",
       "      <td>False</td>\n",
       "      <td>44978</td>\n",
       "    </tr>\n",
       "    <tr>\n",
       "      <th>1</th>\n",
       "      <td>True</td>\n",
       "      <td>4324</td>\n",
       "    </tr>\n",
       "  </tbody>\n",
       "</table>\n",
       "</div>"
      ],
      "text/plain": [
       "   isLegendary     HP\n",
       "0        False  44978\n",
       "1         True   4324"
      ]
     },
     "execution_count": 276,
     "metadata": {},
     "output_type": "execute_result"
    }
   ],
   "source": [
    "df.groupby('isLegendary')['HP'].sum().reset_index()"
   ]
  },
  {
   "cell_type": "markdown",
   "id": "5a41287e",
   "metadata": {},
   "source": [
    "Non-legendary pokemon have the highest HP(Hit points)"
   ]
  },
  {
   "cell_type": "code",
   "execution_count": 277,
   "id": "d2a285b6",
   "metadata": {},
   "outputs": [
    {
     "data": {
      "text/html": [
       "<div>\n",
       "<style scoped>\n",
       "    .dataframe tbody tr th:only-of-type {\n",
       "        vertical-align: middle;\n",
       "    }\n",
       "\n",
       "    .dataframe tbody tr th {\n",
       "        vertical-align: top;\n",
       "    }\n",
       "\n",
       "    .dataframe thead th {\n",
       "        text-align: right;\n",
       "    }\n",
       "</style>\n",
       "<table border=\"1\" class=\"dataframe\">\n",
       "  <thead>\n",
       "    <tr style=\"text-align: right;\">\n",
       "      <th></th>\n",
       "      <th>isLegendary</th>\n",
       "      <th>Attack</th>\n",
       "    </tr>\n",
       "  </thead>\n",
       "  <tbody>\n",
       "    <tr>\n",
       "      <th>0</th>\n",
       "      <td>False</td>\n",
       "      <td>49089</td>\n",
       "    </tr>\n",
       "    <tr>\n",
       "      <th>1</th>\n",
       "      <td>True</td>\n",
       "      <td>4996</td>\n",
       "    </tr>\n",
       "  </tbody>\n",
       "</table>\n",
       "</div>"
      ],
      "text/plain": [
       "   isLegendary  Attack\n",
       "0        False   49089\n",
       "1         True    4996"
      ]
     },
     "execution_count": 277,
     "metadata": {},
     "output_type": "execute_result"
    }
   ],
   "source": [
    "df.groupby('isLegendary')['Attack'].sum().reset_index()"
   ]
  },
  {
   "cell_type": "markdown",
   "id": "2b94ca50",
   "metadata": {},
   "source": [
    "Non legendary pokemon have highest attack power -- This is because of the presence of uneven distribution of legendary and non-legendary pokemon"
   ]
  },
  {
   "cell_type": "code",
   "execution_count": 278,
   "id": "c6a5746e",
   "metadata": {},
   "outputs": [
    {
     "data": {
      "text/html": [
       "<div>\n",
       "<style scoped>\n",
       "    .dataframe tbody tr th:only-of-type {\n",
       "        vertical-align: middle;\n",
       "    }\n",
       "\n",
       "    .dataframe tbody tr th {\n",
       "        vertical-align: top;\n",
       "    }\n",
       "\n",
       "    .dataframe thead th {\n",
       "        text-align: right;\n",
       "    }\n",
       "</style>\n",
       "<table border=\"1\" class=\"dataframe\">\n",
       "  <thead>\n",
       "    <tr style=\"text-align: right;\">\n",
       "      <th></th>\n",
       "      <th>isLegendary</th>\n",
       "      <th>Defense</th>\n",
       "    </tr>\n",
       "  </thead>\n",
       "  <tbody>\n",
       "    <tr>\n",
       "      <th>0</th>\n",
       "      <td>False</td>\n",
       "      <td>46380</td>\n",
       "    </tr>\n",
       "    <tr>\n",
       "      <th>1</th>\n",
       "      <td>True</td>\n",
       "      <td>4673</td>\n",
       "    </tr>\n",
       "  </tbody>\n",
       "</table>\n",
       "</div>"
      ],
      "text/plain": [
       "   isLegendary  Defense\n",
       "0        False    46380\n",
       "1         True     4673"
      ]
     },
     "execution_count": 278,
     "metadata": {},
     "output_type": "execute_result"
    }
   ],
   "source": [
    "df.groupby('isLegendary')['Defense'].sum().reset_index()"
   ]
  },
  {
   "cell_type": "markdown",
   "id": "b02b920d",
   "metadata": {},
   "source": [
    "Non legendary pokemon have more defense power"
   ]
  },
  {
   "cell_type": "code",
   "execution_count": 279,
   "id": "4cab738c",
   "metadata": {},
   "outputs": [
    {
     "data": {
      "text/html": [
       "<div>\n",
       "<style scoped>\n",
       "    .dataframe tbody tr th:only-of-type {\n",
       "        vertical-align: middle;\n",
       "    }\n",
       "\n",
       "    .dataframe tbody tr th {\n",
       "        vertical-align: top;\n",
       "    }\n",
       "\n",
       "    .dataframe thead th {\n",
       "        text-align: right;\n",
       "    }\n",
       "</style>\n",
       "<table border=\"1\" class=\"dataframe\">\n",
       "  <thead>\n",
       "    <tr style=\"text-align: right;\">\n",
       "      <th></th>\n",
       "      <th>isLegendary</th>\n",
       "      <th>Sp_Atk</th>\n",
       "    </tr>\n",
       "  </thead>\n",
       "  <tbody>\n",
       "    <tr>\n",
       "      <th>0</th>\n",
       "      <td>False</td>\n",
       "      <td>44321</td>\n",
       "    </tr>\n",
       "    <tr>\n",
       "      <th>1</th>\n",
       "      <td>True</td>\n",
       "      <td>5239</td>\n",
       "    </tr>\n",
       "  </tbody>\n",
       "</table>\n",
       "</div>"
      ],
      "text/plain": [
       "   isLegendary  Sp_Atk\n",
       "0        False   44321\n",
       "1         True    5239"
      ]
     },
     "execution_count": 279,
     "metadata": {},
     "output_type": "execute_result"
    }
   ],
   "source": [
    "df.groupby('isLegendary')['Sp_Atk'].sum().reset_index()"
   ]
  },
  {
   "cell_type": "markdown",
   "id": "9a82d455",
   "metadata": {},
   "source": [
    "Non legendary pokemon have highest special attack power"
   ]
  },
  {
   "cell_type": "code",
   "execution_count": 280,
   "id": "4fadfd39",
   "metadata": {},
   "outputs": [
    {
     "data": {
      "text/html": [
       "<div>\n",
       "<style scoped>\n",
       "    .dataframe tbody tr th:only-of-type {\n",
       "        vertical-align: middle;\n",
       "    }\n",
       "\n",
       "    .dataframe tbody tr th {\n",
       "        vertical-align: top;\n",
       "    }\n",
       "\n",
       "    .dataframe thead th {\n",
       "        text-align: right;\n",
       "    }\n",
       "</style>\n",
       "<table border=\"1\" class=\"dataframe\">\n",
       "  <thead>\n",
       "    <tr style=\"text-align: right;\">\n",
       "      <th></th>\n",
       "      <th>isLegendary</th>\n",
       "      <th>Sp_Def</th>\n",
       "    </tr>\n",
       "  </thead>\n",
       "  <tbody>\n",
       "    <tr>\n",
       "      <th>0</th>\n",
       "      <td>False</td>\n",
       "      <td>45058</td>\n",
       "    </tr>\n",
       "    <tr>\n",
       "      <th>1</th>\n",
       "      <td>True</td>\n",
       "      <td>4901</td>\n",
       "    </tr>\n",
       "  </tbody>\n",
       "</table>\n",
       "</div>"
      ],
      "text/plain": [
       "   isLegendary  Sp_Def\n",
       "0        False   45058\n",
       "1         True    4901"
      ]
     },
     "execution_count": 280,
     "metadata": {},
     "output_type": "execute_result"
    }
   ],
   "source": [
    "df.groupby('isLegendary')['Sp_Def'].sum().reset_index()"
   ]
  },
  {
   "cell_type": "markdown",
   "id": "fa4510a3",
   "metadata": {},
   "source": [
    "Non legendary pokemon have highest special defense power"
   ]
  },
  {
   "cell_type": "code",
   "execution_count": 281,
   "id": "d35eacec",
   "metadata": {},
   "outputs": [
    {
     "data": {
      "text/html": [
       "<div>\n",
       "<style scoped>\n",
       "    .dataframe tbody tr th:only-of-type {\n",
       "        vertical-align: middle;\n",
       "    }\n",
       "\n",
       "    .dataframe tbody tr th {\n",
       "        vertical-align: top;\n",
       "    }\n",
       "\n",
       "    .dataframe thead th {\n",
       "        text-align: right;\n",
       "    }\n",
       "</style>\n",
       "<table border=\"1\" class=\"dataframe\">\n",
       "  <thead>\n",
       "    <tr style=\"text-align: right;\">\n",
       "      <th></th>\n",
       "      <th>isLegendary</th>\n",
       "      <th>Speed</th>\n",
       "    </tr>\n",
       "  </thead>\n",
       "  <tbody>\n",
       "    <tr>\n",
       "      <th>0</th>\n",
       "      <td>False</td>\n",
       "      <td>63.678519</td>\n",
       "    </tr>\n",
       "    <tr>\n",
       "      <th>1</th>\n",
       "      <td>True</td>\n",
       "      <td>95.586957</td>\n",
       "    </tr>\n",
       "  </tbody>\n",
       "</table>\n",
       "</div>"
      ],
      "text/plain": [
       "   isLegendary      Speed\n",
       "0        False  63.678519\n",
       "1         True  95.586957"
      ]
     },
     "execution_count": 281,
     "metadata": {},
     "output_type": "execute_result"
    }
   ],
   "source": [
    "df.groupby('isLegendary')['Speed'].mean().reset_index()"
   ]
  },
  {
   "cell_type": "markdown",
   "id": "1be62f45",
   "metadata": {},
   "source": [
    "Legendary pokemon has highest average speed"
   ]
  },
  {
   "cell_type": "code",
   "execution_count": 282,
   "id": "846361ef",
   "metadata": {},
   "outputs": [
    {
     "data": {
      "text/html": [
       "<div>\n",
       "<style scoped>\n",
       "    .dataframe tbody tr th:only-of-type {\n",
       "        vertical-align: middle;\n",
       "    }\n",
       "\n",
       "    .dataframe tbody tr th {\n",
       "        vertical-align: top;\n",
       "    }\n",
       "\n",
       "    .dataframe thead th {\n",
       "        text-align: right;\n",
       "    }\n",
       "</style>\n",
       "<table border=\"1\" class=\"dataframe\">\n",
       "  <thead>\n",
       "    <tr style=\"text-align: right;\">\n",
       "      <th></th>\n",
       "      <th>isLegendary</th>\n",
       "      <th>Height_m</th>\n",
       "    </tr>\n",
       "  </thead>\n",
       "  <tbody>\n",
       "    <tr>\n",
       "      <th>0</th>\n",
       "      <td>False</td>\n",
       "      <td>712.85</td>\n",
       "    </tr>\n",
       "    <tr>\n",
       "      <th>1</th>\n",
       "      <td>True</td>\n",
       "      <td>112.68</td>\n",
       "    </tr>\n",
       "  </tbody>\n",
       "</table>\n",
       "</div>"
      ],
      "text/plain": [
       "   isLegendary  Height_m\n",
       "0        False    712.85\n",
       "1         True    112.68"
      ]
     },
     "execution_count": 282,
     "metadata": {},
     "output_type": "execute_result"
    }
   ],
   "source": [
    "df.groupby('isLegendary')['Height_m'].sum().reset_index()"
   ]
  },
  {
   "cell_type": "markdown",
   "id": "2475a0e2",
   "metadata": {},
   "source": [
    "Non legendary pokemon are taller"
   ]
  },
  {
   "cell_type": "code",
   "execution_count": 283,
   "id": "60225615",
   "metadata": {},
   "outputs": [
    {
     "data": {
      "text/html": [
       "<div>\n",
       "<style scoped>\n",
       "    .dataframe tbody tr th:only-of-type {\n",
       "        vertical-align: middle;\n",
       "    }\n",
       "\n",
       "    .dataframe tbody tr th {\n",
       "        vertical-align: top;\n",
       "    }\n",
       "\n",
       "    .dataframe thead th {\n",
       "        text-align: right;\n",
       "    }\n",
       "</style>\n",
       "<table border=\"1\" class=\"dataframe\">\n",
       "  <thead>\n",
       "    <tr style=\"text-align: right;\">\n",
       "      <th></th>\n",
       "      <th>isLegendary</th>\n",
       "      <th>Weight_kg</th>\n",
       "    </tr>\n",
       "  </thead>\n",
       "  <tbody>\n",
       "    <tr>\n",
       "      <th>0</th>\n",
       "      <td>False</td>\n",
       "      <td>31650.9</td>\n",
       "    </tr>\n",
       "    <tr>\n",
       "      <th>1</th>\n",
       "      <td>True</td>\n",
       "      <td>9282.7</td>\n",
       "    </tr>\n",
       "  </tbody>\n",
       "</table>\n",
       "</div>"
      ],
      "text/plain": [
       "   isLegendary  Weight_kg\n",
       "0        False    31650.9\n",
       "1         True     9282.7"
      ]
     },
     "execution_count": 283,
     "metadata": {},
     "output_type": "execute_result"
    }
   ],
   "source": [
    "df.groupby('isLegendary')['Weight_kg'].sum().reset_index()"
   ]
  },
  {
   "cell_type": "markdown",
   "id": "40ed7a86",
   "metadata": {},
   "source": [
    "Non legendary pokemon are heavier"
   ]
  },
  {
   "cell_type": "code",
   "execution_count": 284,
   "id": "9676d2e6",
   "metadata": {},
   "outputs": [
    {
     "data": {
      "text/html": [
       "<div>\n",
       "<style scoped>\n",
       "    .dataframe tbody tr th:only-of-type {\n",
       "        vertical-align: middle;\n",
       "    }\n",
       "\n",
       "    .dataframe tbody tr th {\n",
       "        vertical-align: top;\n",
       "    }\n",
       "\n",
       "    .dataframe thead th {\n",
       "        text-align: right;\n",
       "    }\n",
       "</style>\n",
       "<table border=\"1\" class=\"dataframe\">\n",
       "  <thead>\n",
       "    <tr style=\"text-align: right;\">\n",
       "      <th></th>\n",
       "      <th>isLegendary</th>\n",
       "      <th>Catch_Rate</th>\n",
       "    </tr>\n",
       "  </thead>\n",
       "  <tbody>\n",
       "    <tr>\n",
       "      <th>0</th>\n",
       "      <td>False</td>\n",
       "      <td>71972</td>\n",
       "    </tr>\n",
       "    <tr>\n",
       "      <th>1</th>\n",
       "      <td>True</td>\n",
       "      <td>306</td>\n",
       "    </tr>\n",
       "  </tbody>\n",
       "</table>\n",
       "</div>"
      ],
      "text/plain": [
       "   isLegendary  Catch_Rate\n",
       "0        False       71972\n",
       "1         True         306"
      ]
     },
     "execution_count": 284,
     "metadata": {},
     "output_type": "execute_result"
    }
   ],
   "source": [
    "df.groupby('isLegendary')['Catch_Rate'].sum().reset_index()"
   ]
  },
  {
   "cell_type": "markdown",
   "id": "87dfc303",
   "metadata": {},
   "source": [
    "Catch rate of non-legendary pokemon is higher"
   ]
  },
  {
   "cell_type": "code",
   "execution_count": 285,
   "id": "ba740594",
   "metadata": {},
   "outputs": [
    {
     "data": {
      "text/plain": [
       "Number               0.000000\n",
       "Name                 0.000000\n",
       "Type_1               0.000000\n",
       "Type_2              51.456311\n",
       "Total                0.000000\n",
       "HP                   0.000000\n",
       "Attack               0.000000\n",
       "Defense              0.000000\n",
       "Sp_Atk               0.000000\n",
       "Sp_Def               0.000000\n",
       "Speed                0.000000\n",
       "Generation           0.000000\n",
       "isLegendary          0.000000\n",
       "Color                0.000000\n",
       "hasGender            0.000000\n",
       "Pr_Male             10.679612\n",
       "Egg_Group_1          0.000000\n",
       "Egg_Group_2         73.509015\n",
       "hasMegaEvolution     0.000000\n",
       "Height_m             0.000000\n",
       "Weight_kg            0.000000\n",
       "Catch_Rate           0.000000\n",
       "Body_Style           0.000000\n",
       "dtype: float64"
      ]
     },
     "execution_count": 285,
     "metadata": {},
     "output_type": "execute_result"
    }
   ],
   "source": [
    "(df.isna().sum()/df.shape[0])*100"
   ]
  },
  {
   "cell_type": "code",
   "execution_count": 286,
   "id": "bb1b01d2",
   "metadata": {},
   "outputs": [
    {
     "data": {
      "text/plain": [
       "Flying      0.248571\n",
       "Poison      0.088571\n",
       "Ground      0.085714\n",
       "Psychic     0.077143\n",
       "Fighting    0.054286\n",
       "Steel       0.054286\n",
       "Fairy       0.051429\n",
       "Grass       0.051429\n",
       "Dark        0.045714\n",
       "Dragon      0.040000\n",
       "Rock        0.040000\n",
       "Water       0.037143\n",
       "Ghost       0.034286\n",
       "Ice         0.028571\n",
       "Fire        0.025714\n",
       "Electric    0.017143\n",
       "Normal      0.011429\n",
       "Bug         0.008571\n",
       "Name: Type_2, dtype: float64"
      ]
     },
     "execution_count": 286,
     "metadata": {},
     "output_type": "execute_result"
    }
   ],
   "source": [
    "df.Type_2.value_counts(normalize=True) #normalize displays the proportion of total records"
   ]
  },
  {
   "cell_type": "code",
   "execution_count": 287,
   "id": "7f22fdf4",
   "metadata": {},
   "outputs": [],
   "source": [
    "#Flying pokemon occured more and hence we'll fill in the missing values with 'Flying'\n",
    "df.Type_2.fillna('Flying', inplace=True)"
   ]
  },
  {
   "cell_type": "code",
   "execution_count": 288,
   "id": "c2e438fc",
   "metadata": {},
   "outputs": [
    {
     "data": {
      "text/plain": [
       "0.500    0.711180\n",
       "0.875    0.156832\n",
       "0.000    0.035714\n",
       "0.250    0.034161\n",
       "1.000    0.029503\n",
       "0.750    0.029503\n",
       "0.125    0.003106\n",
       "Name: Pr_Male, dtype: float64"
      ]
     },
     "execution_count": 288,
     "metadata": {},
     "output_type": "execute_result"
    }
   ],
   "source": [
    "df.Pr_Male.value_counts(normalize=True)"
   ]
  },
  {
   "cell_type": "code",
   "execution_count": 289,
   "id": "76c40782",
   "metadata": {},
   "outputs": [
    {
     "data": {
      "text/plain": [
       "Dragon        0.183246\n",
       "Grass         0.167539\n",
       "Field         0.162304\n",
       "Fairy         0.089005\n",
       "Water_3       0.078534\n",
       "Human-Like    0.078534\n",
       "Water_1       0.068063\n",
       "Water_2       0.041885\n",
       "Amorphous     0.041885\n",
       "Mineral       0.041885\n",
       "Flying        0.031414\n",
       "Bug           0.010471\n",
       "Monster       0.005236\n",
       "Name: Egg_Group_2, dtype: float64"
      ]
     },
     "execution_count": 289,
     "metadata": {},
     "output_type": "execute_result"
    }
   ],
   "source": [
    "df.Egg_Group_2.value_counts(normalize=True)"
   ]
  },
  {
   "cell_type": "code",
   "execution_count": 290,
   "id": "a0ac7c5f",
   "metadata": {},
   "outputs": [],
   "source": [
    "#Dragon has the highest frequency and hence we'll fill in the missing with that\n",
    "df.Egg_Group_2.fillna('Dragon', inplace=True)"
   ]
  },
  {
   "cell_type": "code",
   "execution_count": 291,
   "id": "9bde1b83",
   "metadata": {},
   "outputs": [],
   "source": [
    "#Since Pr_male just accounts to 10% of the missing values, we can drop it\n",
    "df.drop(['Pr_Male'], axis=1, inplace =True)"
   ]
  },
  {
   "cell_type": "code",
   "execution_count": 292,
   "id": "1a8c8fc0",
   "metadata": {},
   "outputs": [
    {
     "data": {
      "text/plain": [
       "Number              0\n",
       "Name                0\n",
       "Type_1              0\n",
       "Type_2              0\n",
       "Total               0\n",
       "HP                  0\n",
       "Attack              0\n",
       "Defense             0\n",
       "Sp_Atk              0\n",
       "Sp_Def              0\n",
       "Speed               0\n",
       "Generation          0\n",
       "isLegendary         0\n",
       "Color               0\n",
       "hasGender           0\n",
       "Egg_Group_1         0\n",
       "Egg_Group_2         0\n",
       "hasMegaEvolution    0\n",
       "Height_m            0\n",
       "Weight_kg           0\n",
       "Catch_Rate          0\n",
       "Body_Style          0\n",
       "dtype: int64"
      ]
     },
     "execution_count": 292,
     "metadata": {},
     "output_type": "execute_result"
    }
   ],
   "source": [
    "df.isna().sum()"
   ]
  },
  {
   "cell_type": "markdown",
   "id": "16de74f2",
   "metadata": {},
   "source": [
    "To check the dependence of categorical variable with the target variables"
   ]
  },
  {
   "cell_type": "code",
   "execution_count": 293,
   "id": "96494c2b",
   "metadata": {},
   "outputs": [
    {
     "name": "stdout",
     "output_type": "stream",
     "text": [
      "Chi-square value 54.785475309805435 p-value 7.4174776409724115e-06\n",
      "Chi-square value 20.755808112964527 p-value 0.23740396027972302\n",
      "Chi-square value 7.261952887900006 p-value 0.2018760597912861\n",
      "Chi-square value 704.3551290347759 p-value 3.3779785655929324e-155\n",
      "Chi-square value 2.780445989691305 p-value 0.972367200084747\n",
      "Chi-square value 291.2077264850776 p-value 2.7127233131930227e-65\n",
      "Chi-square value 436.1556164383562 p-value 2.9950665687240253e-84\n",
      "Chi-square value 13.566426745329402 p-value 0.3292474514267514\n",
      "Chi-square value 0.9523907802852912 p-value 0.329111490484477\n",
      "Chi-square value 19.957516582576176 p-value 0.09627464583181722\n"
     ]
    }
   ],
   "source": [
    "#To check the dependence of all categorical variables\n",
    "import scipy.stats as stats\n",
    "categorical_variables = df[['Type_1', 'Type_2', 'Generation', 'isLegendary', 'Color', 'hasGender', 'Egg_Group_1', \n",
    "                            'Egg_Group_2', 'hasMegaEvolution', 'Body_Style']]\n",
    "for i in categorical_variables:\n",
    "    crosstab = pd.crosstab(df['isLegendary'] , df[i])\n",
    "    #print(crosstab)\n",
    "    c = stats.chi2_contingency(crosstab)\n",
    "    print('Chi-square value {} p-value {}'.format(c[0],c[1]))"
   ]
  },
  {
   "cell_type": "markdown",
   "id": "8b528a4d",
   "metadata": {},
   "source": [
    "Since all the categorical variables are dependent considering the p-value which is greater than 0.05 in Chi square test of independence, we take the continuous variables that are suitable to predict the target variable."
   ]
  },
  {
   "cell_type": "code",
   "execution_count": 294,
   "id": "739dbe2b",
   "metadata": {},
   "outputs": [
    {
     "data": {
      "text/html": [
       "<div>\n",
       "<style scoped>\n",
       "    .dataframe tbody tr th:only-of-type {\n",
       "        vertical-align: middle;\n",
       "    }\n",
       "\n",
       "    .dataframe tbody tr th {\n",
       "        vertical-align: top;\n",
       "    }\n",
       "\n",
       "    .dataframe thead th {\n",
       "        text-align: right;\n",
       "    }\n",
       "</style>\n",
       "<table border=\"1\" class=\"dataframe\">\n",
       "  <thead>\n",
       "    <tr style=\"text-align: right;\">\n",
       "      <th></th>\n",
       "      <th>Total</th>\n",
       "      <th>HP</th>\n",
       "      <th>Attack</th>\n",
       "      <th>Defense</th>\n",
       "      <th>Sp_Atk</th>\n",
       "      <th>Sp_Def</th>\n",
       "      <th>Speed</th>\n",
       "      <th>Weight_kg</th>\n",
       "      <th>Height_m</th>\n",
       "      <th>Catch_Rate</th>\n",
       "    </tr>\n",
       "  </thead>\n",
       "  <tbody>\n",
       "    <tr>\n",
       "      <th>Total</th>\n",
       "      <td>1.000000</td>\n",
       "      <td>0.642628</td>\n",
       "      <td>0.704164</td>\n",
       "      <td>0.605831</td>\n",
       "      <td>0.723737</td>\n",
       "      <td>0.706501</td>\n",
       "      <td>0.548890</td>\n",
       "      <td>0.535966</td>\n",
       "      <td>0.526813</td>\n",
       "      <td>-0.738280</td>\n",
       "    </tr>\n",
       "    <tr>\n",
       "      <th>HP</th>\n",
       "      <td>0.642628</td>\n",
       "      <td>1.000000</td>\n",
       "      <td>0.431680</td>\n",
       "      <td>0.228834</td>\n",
       "      <td>0.368640</td>\n",
       "      <td>0.376006</td>\n",
       "      <td>0.170031</td>\n",
       "      <td>0.431320</td>\n",
       "      <td>0.442872</td>\n",
       "      <td>-0.478725</td>\n",
       "    </tr>\n",
       "    <tr>\n",
       "      <th>Attack</th>\n",
       "      <td>0.704164</td>\n",
       "      <td>0.431680</td>\n",
       "      <td>1.000000</td>\n",
       "      <td>0.433233</td>\n",
       "      <td>0.335205</td>\n",
       "      <td>0.207211</td>\n",
       "      <td>0.335013</td>\n",
       "      <td>0.469395</td>\n",
       "      <td>0.408590</td>\n",
       "      <td>-0.525106</td>\n",
       "    </tr>\n",
       "    <tr>\n",
       "      <th>Defense</th>\n",
       "      <td>0.605831</td>\n",
       "      <td>0.228834</td>\n",
       "      <td>0.433233</td>\n",
       "      <td>1.000000</td>\n",
       "      <td>0.202519</td>\n",
       "      <td>0.483986</td>\n",
       "      <td>-0.008663</td>\n",
       "      <td>0.476983</td>\n",
       "      <td>0.354205</td>\n",
       "      <td>-0.436558</td>\n",
       "    </tr>\n",
       "    <tr>\n",
       "      <th>Sp_Atk</th>\n",
       "      <td>0.723737</td>\n",
       "      <td>0.368640</td>\n",
       "      <td>0.335205</td>\n",
       "      <td>0.202519</td>\n",
       "      <td>1.000000</td>\n",
       "      <td>0.492861</td>\n",
       "      <td>0.443106</td>\n",
       "      <td>0.285048</td>\n",
       "      <td>0.330579</td>\n",
       "      <td>-0.539114</td>\n",
       "    </tr>\n",
       "    <tr>\n",
       "      <th>Sp_Def</th>\n",
       "      <td>0.706501</td>\n",
       "      <td>0.376006</td>\n",
       "      <td>0.207211</td>\n",
       "      <td>0.483986</td>\n",
       "      <td>0.492861</td>\n",
       "      <td>1.000000</td>\n",
       "      <td>0.233487</td>\n",
       "      <td>0.328645</td>\n",
       "      <td>0.313196</td>\n",
       "      <td>-0.513014</td>\n",
       "    </tr>\n",
       "    <tr>\n",
       "      <th>Speed</th>\n",
       "      <td>0.548890</td>\n",
       "      <td>0.170031</td>\n",
       "      <td>0.335013</td>\n",
       "      <td>-0.008663</td>\n",
       "      <td>0.443106</td>\n",
       "      <td>0.233487</td>\n",
       "      <td>1.000000</td>\n",
       "      <td>0.108637</td>\n",
       "      <td>0.224617</td>\n",
       "      <td>-0.410557</td>\n",
       "    </tr>\n",
       "    <tr>\n",
       "      <th>Weight_kg</th>\n",
       "      <td>0.535966</td>\n",
       "      <td>0.431320</td>\n",
       "      <td>0.469395</td>\n",
       "      <td>0.476983</td>\n",
       "      <td>0.285048</td>\n",
       "      <td>0.328645</td>\n",
       "      <td>0.108637</td>\n",
       "      <td>1.000000</td>\n",
       "      <td>0.661342</td>\n",
       "      <td>-0.367798</td>\n",
       "    </tr>\n",
       "    <tr>\n",
       "      <th>Height_m</th>\n",
       "      <td>0.526813</td>\n",
       "      <td>0.442872</td>\n",
       "      <td>0.408590</td>\n",
       "      <td>0.354205</td>\n",
       "      <td>0.330579</td>\n",
       "      <td>0.313196</td>\n",
       "      <td>0.224617</td>\n",
       "      <td>0.661342</td>\n",
       "      <td>1.000000</td>\n",
       "      <td>-0.382862</td>\n",
       "    </tr>\n",
       "    <tr>\n",
       "      <th>Catch_Rate</th>\n",
       "      <td>-0.738280</td>\n",
       "      <td>-0.478725</td>\n",
       "      <td>-0.525106</td>\n",
       "      <td>-0.436558</td>\n",
       "      <td>-0.539114</td>\n",
       "      <td>-0.513014</td>\n",
       "      <td>-0.410557</td>\n",
       "      <td>-0.367798</td>\n",
       "      <td>-0.382862</td>\n",
       "      <td>1.000000</td>\n",
       "    </tr>\n",
       "  </tbody>\n",
       "</table>\n",
       "</div>"
      ],
      "text/plain": [
       "               Total        HP    Attack   Defense    Sp_Atk    Sp_Def  \\\n",
       "Total       1.000000  0.642628  0.704164  0.605831  0.723737  0.706501   \n",
       "HP          0.642628  1.000000  0.431680  0.228834  0.368640  0.376006   \n",
       "Attack      0.704164  0.431680  1.000000  0.433233  0.335205  0.207211   \n",
       "Defense     0.605831  0.228834  0.433233  1.000000  0.202519  0.483986   \n",
       "Sp_Atk      0.723737  0.368640  0.335205  0.202519  1.000000  0.492861   \n",
       "Sp_Def      0.706501  0.376006  0.207211  0.483986  0.492861  1.000000   \n",
       "Speed       0.548890  0.170031  0.335013 -0.008663  0.443106  0.233487   \n",
       "Weight_kg   0.535966  0.431320  0.469395  0.476983  0.285048  0.328645   \n",
       "Height_m    0.526813  0.442872  0.408590  0.354205  0.330579  0.313196   \n",
       "Catch_Rate -0.738280 -0.478725 -0.525106 -0.436558 -0.539114 -0.513014   \n",
       "\n",
       "               Speed  Weight_kg  Height_m  Catch_Rate  \n",
       "Total       0.548890   0.535966  0.526813   -0.738280  \n",
       "HP          0.170031   0.431320  0.442872   -0.478725  \n",
       "Attack      0.335013   0.469395  0.408590   -0.525106  \n",
       "Defense    -0.008663   0.476983  0.354205   -0.436558  \n",
       "Sp_Atk      0.443106   0.285048  0.330579   -0.539114  \n",
       "Sp_Def      0.233487   0.328645  0.313196   -0.513014  \n",
       "Speed       1.000000   0.108637  0.224617   -0.410557  \n",
       "Weight_kg   0.108637   1.000000  0.661342   -0.367798  \n",
       "Height_m    0.224617   0.661342  1.000000   -0.382862  \n",
       "Catch_Rate -0.410557  -0.367798 -0.382862    1.000000  "
      ]
     },
     "execution_count": 294,
     "metadata": {},
     "output_type": "execute_result"
    }
   ],
   "source": [
    "#To check the dependence of continous variables\n",
    "co = df[['Total','HP','Attack','Defense','Sp_Atk','Sp_Def','Speed','Weight_kg','Height_m','Catch_Rate']]\n",
    "corr = co.corr()\n",
    "corr"
   ]
  },
  {
   "cell_type": "markdown",
   "id": "da2b2d74",
   "metadata": {},
   "source": [
    "Total, Attack, Weight and Height should be removed, as they have significant correlation among the variables"
   ]
  },
  {
   "cell_type": "code",
   "execution_count": 295,
   "id": "ce803f5a",
   "metadata": {},
   "outputs": [],
   "source": [
    "df_1 = pd.concat([df['HP'],df['Defense'],df['Speed']\n",
    "                 ,df['isLegendary']], axis=1)"
   ]
  },
  {
   "cell_type": "code",
   "execution_count": 296,
   "id": "af170af9",
   "metadata": {},
   "outputs": [],
   "source": [
    "df_1 = pd.get_dummies(data=df_1, drop_first=True)"
   ]
  },
  {
   "cell_type": "code",
   "execution_count": 297,
   "id": "2ae2da55",
   "metadata": {},
   "outputs": [
    {
     "data": {
      "text/plain": [
       "0      0\n",
       "1      0\n",
       "2      0\n",
       "3      0\n",
       "4      0\n",
       "      ..\n",
       "716    1\n",
       "717    1\n",
       "718    1\n",
       "719    1\n",
       "720    1\n",
       "Name: isLegendary, Length: 721, dtype: int32"
      ]
     },
     "execution_count": 297,
     "metadata": {},
     "output_type": "execute_result"
    }
   ],
   "source": [
    "df_1.isLegendary.astype(int)"
   ]
  },
  {
   "cell_type": "code",
   "execution_count": 298,
   "id": "43800785",
   "metadata": {},
   "outputs": [],
   "source": [
    "df_1['isLegendary'] = df_1.isLegendary.astype(int)"
   ]
  },
  {
   "cell_type": "code",
   "execution_count": 299,
   "id": "55a0ca79",
   "metadata": {},
   "outputs": [
    {
     "data": {
      "text/html": [
       "<div>\n",
       "<style scoped>\n",
       "    .dataframe tbody tr th:only-of-type {\n",
       "        vertical-align: middle;\n",
       "    }\n",
       "\n",
       "    .dataframe tbody tr th {\n",
       "        vertical-align: top;\n",
       "    }\n",
       "\n",
       "    .dataframe thead th {\n",
       "        text-align: right;\n",
       "    }\n",
       "</style>\n",
       "<table border=\"1\" class=\"dataframe\">\n",
       "  <thead>\n",
       "    <tr style=\"text-align: right;\">\n",
       "      <th></th>\n",
       "      <th>HP</th>\n",
       "      <th>Defense</th>\n",
       "      <th>Speed</th>\n",
       "      <th>isLegendary</th>\n",
       "    </tr>\n",
       "  </thead>\n",
       "  <tbody>\n",
       "    <tr>\n",
       "      <th>0</th>\n",
       "      <td>45</td>\n",
       "      <td>49</td>\n",
       "      <td>45</td>\n",
       "      <td>0</td>\n",
       "    </tr>\n",
       "    <tr>\n",
       "      <th>1</th>\n",
       "      <td>60</td>\n",
       "      <td>63</td>\n",
       "      <td>60</td>\n",
       "      <td>0</td>\n",
       "    </tr>\n",
       "    <tr>\n",
       "      <th>2</th>\n",
       "      <td>80</td>\n",
       "      <td>83</td>\n",
       "      <td>80</td>\n",
       "      <td>0</td>\n",
       "    </tr>\n",
       "    <tr>\n",
       "      <th>3</th>\n",
       "      <td>39</td>\n",
       "      <td>43</td>\n",
       "      <td>65</td>\n",
       "      <td>0</td>\n",
       "    </tr>\n",
       "    <tr>\n",
       "      <th>4</th>\n",
       "      <td>58</td>\n",
       "      <td>58</td>\n",
       "      <td>80</td>\n",
       "      <td>0</td>\n",
       "    </tr>\n",
       "    <tr>\n",
       "      <th>...</th>\n",
       "      <td>...</td>\n",
       "      <td>...</td>\n",
       "      <td>...</td>\n",
       "      <td>...</td>\n",
       "    </tr>\n",
       "    <tr>\n",
       "      <th>716</th>\n",
       "      <td>126</td>\n",
       "      <td>95</td>\n",
       "      <td>99</td>\n",
       "      <td>1</td>\n",
       "    </tr>\n",
       "    <tr>\n",
       "      <th>717</th>\n",
       "      <td>108</td>\n",
       "      <td>121</td>\n",
       "      <td>95</td>\n",
       "      <td>1</td>\n",
       "    </tr>\n",
       "    <tr>\n",
       "      <th>718</th>\n",
       "      <td>50</td>\n",
       "      <td>150</td>\n",
       "      <td>50</td>\n",
       "      <td>1</td>\n",
       "    </tr>\n",
       "    <tr>\n",
       "      <th>719</th>\n",
       "      <td>80</td>\n",
       "      <td>60</td>\n",
       "      <td>70</td>\n",
       "      <td>1</td>\n",
       "    </tr>\n",
       "    <tr>\n",
       "      <th>720</th>\n",
       "      <td>80</td>\n",
       "      <td>120</td>\n",
       "      <td>70</td>\n",
       "      <td>1</td>\n",
       "    </tr>\n",
       "  </tbody>\n",
       "</table>\n",
       "<p>721 rows × 4 columns</p>\n",
       "</div>"
      ],
      "text/plain": [
       "      HP  Defense  Speed  isLegendary\n",
       "0     45       49     45            0\n",
       "1     60       63     60            0\n",
       "2     80       83     80            0\n",
       "3     39       43     65            0\n",
       "4     58       58     80            0\n",
       "..   ...      ...    ...          ...\n",
       "716  126       95     99            1\n",
       "717  108      121     95            1\n",
       "718   50      150     50            1\n",
       "719   80       60     70            1\n",
       "720   80      120     70            1\n",
       "\n",
       "[721 rows x 4 columns]"
      ]
     },
     "execution_count": 299,
     "metadata": {},
     "output_type": "execute_result"
    }
   ],
   "source": [
    "df_1"
   ]
  },
  {
   "cell_type": "code",
   "execution_count": 300,
   "id": "43f46862",
   "metadata": {},
   "outputs": [],
   "source": [
    "X = df_1[['HP','Defense','Speed']]\n",
    "y = df_1['isLegendary']"
   ]
  },
  {
   "cell_type": "code",
   "execution_count": 301,
   "id": "0e7cc7d5",
   "metadata": {},
   "outputs": [],
   "source": [
    "X_train, X_test, y_train, y_test = train_test_split(X, y, test_size=0.10, random_state=42)"
   ]
  },
  {
   "cell_type": "code",
   "execution_count": 302,
   "id": "aa32337b",
   "metadata": {},
   "outputs": [],
   "source": [
    "clf = LogisticRegression()"
   ]
  },
  {
   "cell_type": "code",
   "execution_count": 303,
   "id": "6ea86d69",
   "metadata": {},
   "outputs": [
    {
     "data": {
      "text/plain": [
       "LogisticRegression()"
      ]
     },
     "execution_count": 303,
     "metadata": {},
     "output_type": "execute_result"
    }
   ],
   "source": [
    "clf.fit(X_train, y_train)"
   ]
  },
  {
   "cell_type": "code",
   "execution_count": 304,
   "id": "2b78795a",
   "metadata": {},
   "outputs": [
    {
     "data": {
      "text/plain": [
       "array([0, 0, 0, 0, 0, 0, 0, 0, 0, 0, 0, 0, 0, 0, 0, 0, 0, 0, 0, 1, 0, 0,\n",
       "       0, 0, 0, 0, 0, 0, 0, 0, 0, 0, 0, 0, 0, 0, 0, 0, 0, 0, 0, 0, 0, 0,\n",
       "       0, 0, 0, 0, 0, 0, 0, 0, 0, 0, 0, 0, 0, 0, 0, 0, 0, 0, 0, 0, 0, 0,\n",
       "       0, 0, 0, 0, 0, 0, 1])"
      ]
     },
     "execution_count": 304,
     "metadata": {},
     "output_type": "execute_result"
    }
   ],
   "source": [
    "pred = clf.predict(X_test)\n",
    "pred"
   ]
  },
  {
   "cell_type": "code",
   "execution_count": 305,
   "id": "7ce4fcbf",
   "metadata": {},
   "outputs": [
    {
     "data": {
      "text/plain": [
       "array([2.47584991e-02, 3.23157307e-05, 4.33422163e-02, 5.92422368e-05,\n",
       "       6.28238647e-03, 8.34359075e-04, 1.44377408e-03, 1.94876600e-06,\n",
       "       3.36044876e-02, 4.17936858e-04, 9.90820687e-03, 5.35507050e-05,\n",
       "       2.50130236e-01, 1.00925807e-03, 7.22979419e-05, 3.07770008e-02,\n",
       "       1.42840244e-04, 4.90340011e-05, 1.06333967e-02, 9.01142572e-01,\n",
       "       1.23625370e-02, 1.01506333e-02, 3.58171803e-03, 1.69715481e-01,\n",
       "       9.39967673e-04, 1.78059983e-02, 1.99758010e-05, 1.82833898e-05,\n",
       "       1.17587078e-04, 3.22232303e-03, 4.47592947e-02, 3.05990417e-03,\n",
       "       1.29004387e-01, 1.95711004e-04, 5.20794658e-05, 3.84788595e-03,\n",
       "       7.47723049e-05, 3.57951082e-02, 1.81293172e-02, 8.44890984e-05,\n",
       "       4.44742761e-02, 1.56296284e-02, 1.83007059e-02, 3.14275738e-05,\n",
       "       3.11814004e-02, 2.58984511e-02, 7.56075963e-02, 2.01053094e-03,\n",
       "       7.97052017e-06, 1.03288471e-04, 1.37762805e-05, 3.59709186e-04,\n",
       "       9.03799171e-05, 4.13559764e-05, 3.38256094e-04, 1.04524759e-02,\n",
       "       7.29976437e-05, 1.95120196e-02, 6.84578074e-04, 4.01646172e-05,\n",
       "       2.46874731e-02, 8.12251630e-05, 8.23744097e-05, 3.92975367e-06,\n",
       "       1.03484476e-05, 4.42918930e-03, 9.01497372e-05, 3.54213184e-03,\n",
       "       1.96823660e-03, 1.28310560e-03, 3.69631054e-03, 3.46997307e-04,\n",
       "       8.19222537e-01])"
      ]
     },
     "execution_count": 305,
     "metadata": {},
     "output_type": "execute_result"
    }
   ],
   "source": [
    "y_pred_proba = clf.predict_proba(X_test)[:,1]\n",
    "y_pred_proba"
   ]
  },
  {
   "cell_type": "code",
   "execution_count": 306,
   "id": "7707feaa",
   "metadata": {},
   "outputs": [
    {
     "data": {
      "text/plain": [
       "0.9459876543209876"
      ]
     },
     "execution_count": 306,
     "metadata": {},
     "output_type": "execute_result"
    }
   ],
   "source": [
    "clf.score(X_train, y_train)"
   ]
  },
  {
   "cell_type": "code",
   "execution_count": 307,
   "id": "cda0aaed",
   "metadata": {},
   "outputs": [
    {
     "data": {
      "text/plain": [
       "0.9726027397260274"
      ]
     },
     "execution_count": 307,
     "metadata": {},
     "output_type": "execute_result"
    }
   ],
   "source": [
    "clf.score(X_test, y_test)"
   ]
  },
  {
   "cell_type": "markdown",
   "id": "abd19935",
   "metadata": {},
   "source": [
    "# Evaluation Metrics"
   ]
  },
  {
   "cell_type": "markdown",
   "id": "c31b858d",
   "metadata": {},
   "source": [
    "1. Confusion Matrix"
   ]
  },
  {
   "cell_type": "code",
   "execution_count": 308,
   "id": "2c4cde05",
   "metadata": {},
   "outputs": [],
   "source": [
    "from sklearn.metrics import confusion_matrix, roc_curve, roc_auc_score"
   ]
  },
  {
   "cell_type": "code",
   "execution_count": 309,
   "id": "8432088e",
   "metadata": {},
   "outputs": [
    {
     "data": {
      "text/plain": [
       "array([[69,  0],\n",
       "       [ 2,  2]], dtype=int64)"
      ]
     },
     "execution_count": 309,
     "metadata": {},
     "output_type": "execute_result"
    }
   ],
   "source": [
    "confusion_matrix(y_test, pred)"
   ]
  },
  {
   "cell_type": "markdown",
   "id": "7584e463",
   "metadata": {},
   "source": [
    "69 - True Negative, 0-FP , 2-FN, 2-True Positive"
   ]
  },
  {
   "cell_type": "code",
   "execution_count": 310,
   "id": "4ff058e9",
   "metadata": {},
   "outputs": [],
   "source": [
    "tn, fp, fn, tp = confusion_matrix(y_test, pred).ravel()"
   ]
  },
  {
   "cell_type": "markdown",
   "id": "4b2879a9",
   "metadata": {},
   "source": [
    "2. Accuracy"
   ]
  },
  {
   "cell_type": "code",
   "execution_count": 311,
   "id": "0cb527ae",
   "metadata": {},
   "outputs": [
    {
     "name": "stdout",
     "output_type": "stream",
     "text": [
      "Accuracy:  0.9726027397260274\n"
     ]
    }
   ],
   "source": [
    "acc = (tp+tn)/(tp+tn+fp+fn)\n",
    "print(\"Accuracy: \", acc)"
   ]
  },
  {
   "cell_type": "markdown",
   "id": "6a9021b9",
   "metadata": {},
   "source": [
    "3. Precision"
   ]
  },
  {
   "cell_type": "code",
   "execution_count": 312,
   "id": "8d0a113b",
   "metadata": {},
   "outputs": [
    {
     "name": "stdout",
     "output_type": "stream",
     "text": [
      "Precision:  1.0\n"
     ]
    }
   ],
   "source": [
    "pre = tp/(tp+fp)\n",
    "print(\"Precision: \",pre)"
   ]
  },
  {
   "cell_type": "markdown",
   "id": "4d5ac841",
   "metadata": {},
   "source": [
    "4. Recall or Sensitivity "
   ]
  },
  {
   "cell_type": "code",
   "execution_count": 313,
   "id": "81aff08a",
   "metadata": {},
   "outputs": [
    {
     "name": "stdout",
     "output_type": "stream",
     "text": [
      "Recall:  0.5\n"
     ]
    }
   ],
   "source": [
    "re = tp/(tp+fn)\n",
    "print(\"Recall: \", re)"
   ]
  },
  {
   "cell_type": "markdown",
   "id": "3884ba10",
   "metadata": {},
   "source": [
    "5. Specificity"
   ]
  },
  {
   "cell_type": "code",
   "execution_count": 314,
   "id": "407f9880",
   "metadata": {},
   "outputs": [
    {
     "name": "stdout",
     "output_type": "stream",
     "text": [
      "Specificity:  1.0\n"
     ]
    }
   ],
   "source": [
    "sp = tn/(tn+fp)\n",
    "print(\"Specificity: \",sp)"
   ]
  },
  {
   "cell_type": "markdown",
   "id": "88ff1be3",
   "metadata": {},
   "source": [
    "6. Misclassification Rate"
   ]
  },
  {
   "cell_type": "code",
   "execution_count": 315,
   "id": "89eece99",
   "metadata": {},
   "outputs": [
    {
     "name": "stdout",
     "output_type": "stream",
     "text": [
      "Misclassification Rate:  2.73972602739726\n"
     ]
    }
   ],
   "source": [
    "print(\"Misclassification Rate: \",np.mean((pred != y_test))*100)"
   ]
  },
  {
   "cell_type": "markdown",
   "id": "286f58c4",
   "metadata": {},
   "source": [
    "7. ROC curve"
   ]
  },
  {
   "cell_type": "code",
   "execution_count": 316,
   "id": "0a8f62f6",
   "metadata": {},
   "outputs": [],
   "source": [
    "from sklearn import metrics\n",
    "fpr, tpr, _ = metrics.roc_curve(y_test, y_pred_proba)"
   ]
  },
  {
   "cell_type": "code",
   "execution_count": 317,
   "id": "fdd2eeb5",
   "metadata": {},
   "outputs": [
    {
     "data": {
      "image/png": "[encoded data removed]",
      "text/plain": [
       "<Figure size 432x288 with 1 Axes>"
      ]
     },
     "metadata": {
      "needs_background": "light"
     },
     "output_type": "display_data"
    }
   ],
   "source": [
    "#Roc curve\n",
    "plt.plot(fpr,tpr)\n",
    "plt.ylabel('True Positive Rate')\n",
    "plt.xlabel('False Positive Rate')\n",
    "plt.show()"
   ]
  },
  {
   "cell_type": "markdown",
   "id": "c47ad824",
   "metadata": {},
   "source": [
    "8. AUC(Area Under Curve)"
   ]
  },
  {
   "cell_type": "code",
   "execution_count": 318,
   "id": "d824b609",
   "metadata": {},
   "outputs": [
    {
     "name": "stdout",
     "output_type": "stream",
     "text": [
      "0.8840579710144928\n"
     ]
    }
   ],
   "source": [
    "auc = metrics.roc_auc_score(y_test,y_pred_proba)\n",
    "print(auc)"
   ]
  }
 ],
 "metadata": {
  "kernelspec": {
   "display_name": "Python 3 (ipykernel)",
   "language": "python",
   "name": "python3"
  },
  "language_info": {
   "codemirror_mode": {
    "name": "ipython",
    "version": 3
   },
   "file_extension": ".py",
   "mimetype": "text/x-python",
   "name": "python",
   "nbconvert_exporter": "python",
   "pygments_lexer": "ipython3",
   "version": "3.8.8"
  }
 },
 "nbformat": 4,
 "nbformat_minor": 5
}
