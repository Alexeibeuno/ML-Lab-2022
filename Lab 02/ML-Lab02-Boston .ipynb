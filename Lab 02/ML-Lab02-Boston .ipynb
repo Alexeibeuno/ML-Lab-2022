{
 "cells": [
  {
   "cell_type": "code",
   "execution_count": 4,
   "id": "65f7202d",
   "metadata": {},
   "outputs": [],
   "source": [
    "import numpy as np\n",
    "import seaborn as sns\n",
    "import pandas as pd\n",
    "import matplotlib.pyplot as plt\n",
    "sns.set(style='darkgrid')\n",
    "import statsmodels.api as smf"
   ]
  },
  {
   "cell_type": "code",
   "execution_count": 2,
   "id": "f1e8dfec",
   "metadata": {},
   "outputs": [],
   "source": [
    "df = pd.read_csv('HousingData.csv')"
   ]
  },
  {
   "cell_type": "code",
   "execution_count": 3,
   "id": "1ec42b15",
   "metadata": {},
   "outputs": [
    {
     "data": {
      "text/html": [
       "<div>\n",
       "<style scoped>\n",
       "    .dataframe tbody tr th:only-of-type {\n",
       "        vertical-align: middle;\n",
       "    }\n",
       "\n",
       "    .dataframe tbody tr th {\n",
       "        vertical-align: top;\n",
       "    }\n",
       "\n",
       "    .dataframe thead th {\n",
       "        text-align: right;\n",
       "    }\n",
       "</style>\n",
       "<table border=\"1\" class=\"dataframe\">\n",
       "  <thead>\n",
       "    <tr style=\"text-align: right;\">\n",
       "      <th></th>\n",
       "      <th>CRIM</th>\n",
       "      <th>ZN</th>\n",
       "      <th>INDUS</th>\n",
       "      <th>CHAS</th>\n",
       "      <th>NOX</th>\n",
       "      <th>RM</th>\n",
       "      <th>AGE</th>\n",
       "      <th>DIS</th>\n",
       "      <th>RAD</th>\n",
       "      <th>TAX</th>\n",
       "      <th>PTRATIO</th>\n",
       "      <th>B</th>\n",
       "      <th>LSTAT</th>\n",
       "      <th>MEDV</th>\n",
       "    </tr>\n",
       "  </thead>\n",
       "  <tbody>\n",
       "    <tr>\n",
       "      <th>0</th>\n",
       "      <td>0.00632</td>\n",
       "      <td>18.0</td>\n",
       "      <td>2.31</td>\n",
       "      <td>0.0</td>\n",
       "      <td>0.538</td>\n",
       "      <td>6.575</td>\n",
       "      <td>65.2</td>\n",
       "      <td>4.0900</td>\n",
       "      <td>1</td>\n",
       "      <td>296</td>\n",
       "      <td>15.3</td>\n",
       "      <td>396.90</td>\n",
       "      <td>4.98</td>\n",
       "      <td>24.0</td>\n",
       "    </tr>\n",
       "    <tr>\n",
       "      <th>1</th>\n",
       "      <td>0.02731</td>\n",
       "      <td>0.0</td>\n",
       "      <td>7.07</td>\n",
       "      <td>0.0</td>\n",
       "      <td>0.469</td>\n",
       "      <td>6.421</td>\n",
       "      <td>78.9</td>\n",
       "      <td>4.9671</td>\n",
       "      <td>2</td>\n",
       "      <td>242</td>\n",
       "      <td>17.8</td>\n",
       "      <td>396.90</td>\n",
       "      <td>9.14</td>\n",
       "      <td>21.6</td>\n",
       "    </tr>\n",
       "    <tr>\n",
       "      <th>2</th>\n",
       "      <td>0.02729</td>\n",
       "      <td>0.0</td>\n",
       "      <td>7.07</td>\n",
       "      <td>0.0</td>\n",
       "      <td>0.469</td>\n",
       "      <td>7.185</td>\n",
       "      <td>61.1</td>\n",
       "      <td>4.9671</td>\n",
       "      <td>2</td>\n",
       "      <td>242</td>\n",
       "      <td>17.8</td>\n",
       "      <td>392.83</td>\n",
       "      <td>4.03</td>\n",
       "      <td>34.7</td>\n",
       "    </tr>\n",
       "    <tr>\n",
       "      <th>3</th>\n",
       "      <td>0.03237</td>\n",
       "      <td>0.0</td>\n",
       "      <td>2.18</td>\n",
       "      <td>0.0</td>\n",
       "      <td>0.458</td>\n",
       "      <td>6.998</td>\n",
       "      <td>45.8</td>\n",
       "      <td>6.0622</td>\n",
       "      <td>3</td>\n",
       "      <td>222</td>\n",
       "      <td>18.7</td>\n",
       "      <td>394.63</td>\n",
       "      <td>2.94</td>\n",
       "      <td>33.4</td>\n",
       "    </tr>\n",
       "    <tr>\n",
       "      <th>4</th>\n",
       "      <td>0.06905</td>\n",
       "      <td>0.0</td>\n",
       "      <td>2.18</td>\n",
       "      <td>0.0</td>\n",
       "      <td>0.458</td>\n",
       "      <td>7.147</td>\n",
       "      <td>54.2</td>\n",
       "      <td>6.0622</td>\n",
       "      <td>3</td>\n",
       "      <td>222</td>\n",
       "      <td>18.7</td>\n",
       "      <td>396.90</td>\n",
       "      <td>NaN</td>\n",
       "      <td>36.2</td>\n",
       "    </tr>\n",
       "  </tbody>\n",
       "</table>\n",
       "</div>"
      ],
      "text/plain": [
       "      CRIM    ZN  INDUS  CHAS    NOX     RM   AGE     DIS  RAD  TAX  PTRATIO  \\\n",
       "0  0.00632  18.0   2.31   0.0  0.538  6.575  65.2  4.0900    1  296     15.3   \n",
       "1  0.02731   0.0   7.07   0.0  0.469  6.421  78.9  4.9671    2  242     17.8   \n",
       "2  0.02729   0.0   7.07   0.0  0.469  7.185  61.1  4.9671    2  242     17.8   \n",
       "3  0.03237   0.0   2.18   0.0  0.458  6.998  45.8  6.0622    3  222     18.7   \n",
       "4  0.06905   0.0   2.18   0.0  0.458  7.147  54.2  6.0622    3  222     18.7   \n",
       "\n",
       "        B  LSTAT  MEDV  \n",
       "0  396.90   4.98  24.0  \n",
       "1  396.90   9.14  21.6  \n",
       "2  392.83   4.03  34.7  \n",
       "3  394.63   2.94  33.4  \n",
       "4  396.90    NaN  36.2  "
      ]
     },
     "execution_count": 3,
     "metadata": {},
     "output_type": "execute_result"
    }
   ],
   "source": [
    "df.head()"
   ]
  },
  {
   "cell_type": "markdown",
   "id": "f0275232",
   "metadata": {},
   "source": [
    "Attribute Information:\n",
    "\n",
    "1. CRIM: per capita crime rate by town\n",
    "\n",
    "2. ZN: proportion of residential land zoned for lots over25,000 sq.ft.\n",
    "\n",
    "3. INDUS: proportion of non-retail business acres per town\n",
    "\n",
    "4. CHAS: Charles River dummy variable (= 1 if tract boundsriver; 0 otherwise)\n",
    "\n",
    "5. NOX: nitric oxides concentration (parts per 10 million)\n",
    "\n",
    "6. RM: average number of rooms per dwelling\n",
    "\n",
    "7. AGE: proportion of owner-occupied units built prior to 1940\n",
    "\n",
    "8. DIS: weighted distances to five Boston employment centres\n",
    "\n",
    "9. RAD: index of accessibility to radial highways\n",
    "\n",
    "10. TAX: full-value property-tax rate per $10,000\n",
    "\n",
    "11. PTRATIO: pupil-teacher ratio by town\n",
    "\n",
    "12. B1000(Bk - 0.63)^2 where Bk is the proportion of blacksby town\n",
    "\n",
    "13. LSTAT: % lower status of the population\n",
    "\n",
    "14. MEDV: Median value of owner-occupied homes in $1000's"
   ]
  },
  {
   "cell_type": "code",
   "execution_count": 15,
   "id": "241baee9",
   "metadata": {},
   "outputs": [
    {
     "data": {
      "text/plain": [
       "Index(['CRIM', 'ZN', 'INDUS', 'CHAS', 'NOX', 'RM', 'AGE', 'DIS', 'RAD', 'TAX',\n",
       "       'PTRATIO', 'B', 'LSTAT', 'MEDV'],\n",
       "      dtype='object')"
      ]
     },
     "execution_count": 15,
     "metadata": {},
     "output_type": "execute_result"
    }
   ],
   "source": [
    "df.columns"
   ]
  },
  {
   "cell_type": "code",
   "execution_count": 16,
   "id": "0905a3bf",
   "metadata": {},
   "outputs": [
    {
     "data": {
      "text/plain": [
       "(506, 14)"
      ]
     },
     "execution_count": 16,
     "metadata": {},
     "output_type": "execute_result"
    }
   ],
   "source": [
    "df.shape"
   ]
  },
  {
   "cell_type": "code",
   "execution_count": 20,
   "id": "ead69edd",
   "metadata": {},
   "outputs": [
    {
     "data": {
      "text/html": [
       "<div>\n",
       "<style scoped>\n",
       "    .dataframe tbody tr th:only-of-type {\n",
       "        vertical-align: middle;\n",
       "    }\n",
       "\n",
       "    .dataframe tbody tr th {\n",
       "        vertical-align: top;\n",
       "    }\n",
       "\n",
       "    .dataframe thead th {\n",
       "        text-align: right;\n",
       "    }\n",
       "</style>\n",
       "<table border=\"1\" class=\"dataframe\">\n",
       "  <thead>\n",
       "    <tr style=\"text-align: right;\">\n",
       "      <th></th>\n",
       "      <th>column name</th>\n",
       "      <th>missing row count</th>\n",
       "      <th>missing percentage</th>\n",
       "    </tr>\n",
       "  </thead>\n",
       "  <tbody>\n",
       "    <tr>\n",
       "      <th>0</th>\n",
       "      <td>CRIM</td>\n",
       "      <td>20</td>\n",
       "      <td>3.952569</td>\n",
       "    </tr>\n",
       "    <tr>\n",
       "      <th>1</th>\n",
       "      <td>ZN</td>\n",
       "      <td>20</td>\n",
       "      <td>3.952569</td>\n",
       "    </tr>\n",
       "    <tr>\n",
       "      <th>2</th>\n",
       "      <td>INDUS</td>\n",
       "      <td>20</td>\n",
       "      <td>3.952569</td>\n",
       "    </tr>\n",
       "    <tr>\n",
       "      <th>3</th>\n",
       "      <td>CHAS</td>\n",
       "      <td>20</td>\n",
       "      <td>3.952569</td>\n",
       "    </tr>\n",
       "    <tr>\n",
       "      <th>6</th>\n",
       "      <td>AGE</td>\n",
       "      <td>20</td>\n",
       "      <td>3.952569</td>\n",
       "    </tr>\n",
       "    <tr>\n",
       "      <th>12</th>\n",
       "      <td>LSTAT</td>\n",
       "      <td>20</td>\n",
       "      <td>3.952569</td>\n",
       "    </tr>\n",
       "  </tbody>\n",
       "</table>\n",
       "</div>"
      ],
      "text/plain": [
       "   column name  missing row count  missing percentage\n",
       "0         CRIM                 20            3.952569\n",
       "1           ZN                 20            3.952569\n",
       "2        INDUS                 20            3.952569\n",
       "3         CHAS                 20            3.952569\n",
       "6          AGE                 20            3.952569\n",
       "12       LSTAT                 20            3.952569"
      ]
     },
     "execution_count": 20,
     "metadata": {},
     "output_type": "execute_result"
    }
   ],
   "source": [
    "missing_values = df.isnull().sum().reset_index().assign(\n",
    " missing_percentage = lambda x: (x[0]/df.shape[0])*100  \n",
    ").sort_values(by=\"missing_percentage\",ascending=False).rename(columns={\n",
    "    \"index\":\"column name\", 0:\"missing row count\",\"missing_percentage\":\"missing percentage\"\n",
    "})\n",
    "missing_values = missing_values[missing_values['missing percentage']>0]\n",
    "missing_values"
   ]
  },
  {
   "cell_type": "code",
   "execution_count": 26,
   "id": "a985362b",
   "metadata": {},
   "outputs": [],
   "source": [
    "df.dropna(axis=0,inplace=True)"
   ]
  },
  {
   "cell_type": "code",
   "execution_count": 27,
   "id": "a3ab491c",
   "metadata": {
    "scrolled": true
   },
   "outputs": [
    {
     "data": {
      "text/plain": [
       "CRIM       0\n",
       "ZN         0\n",
       "INDUS      0\n",
       "CHAS       0\n",
       "NOX        0\n",
       "RM         0\n",
       "AGE        0\n",
       "DIS        0\n",
       "RAD        0\n",
       "TAX        0\n",
       "PTRATIO    0\n",
       "B          0\n",
       "LSTAT      0\n",
       "MEDV       0\n",
       "dtype: int64"
      ]
     },
     "execution_count": 27,
     "metadata": {},
     "output_type": "execute_result"
    }
   ],
   "source": [
    "df.isna().sum()"
   ]
  },
  {
   "cell_type": "markdown",
   "id": "d807464b",
   "metadata": {},
   "source": [
    "# SLR - ZN vs CRIM"
   ]
  },
  {
   "cell_type": "code",
   "execution_count": 30,
   "id": "a36f0766",
   "metadata": {},
   "outputs": [],
   "source": [
    "from sklearn.model_selection import train_test_split\n",
    "import scipy.stats as stats"
   ]
  },
  {
   "cell_type": "code",
   "execution_count": 45,
   "id": "9aa580bd",
   "metadata": {},
   "outputs": [],
   "source": [
    "X_train, X_test, y_train, y_test = train_test_split(df['ZN'], df['CRIM'], test_size=0.10, random_state=0)"
   ]
  },
  {
   "cell_type": "code",
   "execution_count": 46,
   "id": "1d5619cd",
   "metadata": {},
   "outputs": [
    {
     "name": "stdout",
     "output_type": "stream",
     "text": [
      "                                 OLS Regression Results                                \n",
      "=======================================================================================\n",
      "Dep. Variable:                   CRIM   R-squared (uncentered):                   0.000\n",
      "Model:                            OLS   Adj. R-squared (uncentered):             -0.003\n",
      "Method:                 Least Squares   F-statistic:                           0.004993\n",
      "Date:                Fri, 29 Apr 2022   Prob (F-statistic):                       0.944\n",
      "Time:                        22:32:36   Log-Likelihood:                         -1305.2\n",
      "No. Observations:                 354   AIC:                                      2612.\n",
      "Df Residuals:                     353   BIC:                                      2616.\n",
      "Df Model:                           1                                                  \n",
      "Covariance Type:            nonrobust                                                  \n",
      "==============================================================================\n",
      "                 coef    std err          t      P>|t|      [0.025      0.975]\n",
      "------------------------------------------------------------------------------\n",
      "ZN             0.0013      0.019      0.071      0.944      -0.036       0.039\n",
      "==============================================================================\n",
      "Omnibus:                      408.590   Durbin-Watson:                   1.734\n",
      "Prob(Omnibus):                  0.000   Jarque-Bera (JB):            21407.719\n",
      "Skew:                           5.253   Prob(JB):                         0.00\n",
      "Kurtosis:                      39.619   Cond. No.                         1.00\n",
      "==============================================================================\n",
      "\n",
      "Notes:\n",
      "[1] R² is computed without centering (uncentered) since the model does not contain a constant.\n",
      "[2] Standard Errors assume that the covariance matrix of the errors is correctly specified.\n"
     ]
    }
   ],
   "source": [
    "r = smf.OLS(y_train,X_train)\n",
    "r1 = r.fit()\n",
    "print(r1.summary())"
   ]
  },
  {
   "cell_type": "code",
   "execution_count": 78,
   "id": "979f9ad3",
   "metadata": {},
   "outputs": [
    {
     "data": {
      "text/plain": [
       "ZN    0.001338\n",
       "dtype: float64"
      ]
     },
     "execution_count": 78,
     "metadata": {},
     "output_type": "execute_result"
    }
   ],
   "source": [
    "a = r1.params\n",
    "a"
   ]
  },
  {
   "cell_type": "markdown",
   "id": "303040ba",
   "metadata": {},
   "source": [
    "# INDUS vs CRIM"
   ]
  },
  {
   "cell_type": "code",
   "execution_count": 47,
   "id": "37788ff9",
   "metadata": {},
   "outputs": [],
   "source": [
    "X_train, X_test, y_train, y_test = train_test_split(df['INDUS'], df['CRIM'], test_size=0.10, random_state=0)"
   ]
  },
  {
   "cell_type": "code",
   "execution_count": 48,
   "id": "6e381a8c",
   "metadata": {},
   "outputs": [
    {
     "name": "stdout",
     "output_type": "stream",
     "text": [
      "                                 OLS Regression Results                                \n",
      "=======================================================================================\n",
      "Dep. Variable:                   CRIM   R-squared (uncentered):                   0.261\n",
      "Model:                            OLS   Adj. R-squared (uncentered):              0.259\n",
      "Method:                 Least Squares   F-statistic:                              124.9\n",
      "Date:                Fri, 29 Apr 2022   Prob (F-statistic):                    4.99e-25\n",
      "Time:                        22:32:44   Log-Likelihood:                         -1251.6\n",
      "No. Observations:                 354   AIC:                                      2505.\n",
      "Df Residuals:                     353   BIC:                                      2509.\n",
      "Df Model:                           1                                                  \n",
      "Covariance Type:            nonrobust                                                  \n",
      "==============================================================================\n",
      "                 coef    std err          t      P>|t|      [0.025      0.975]\n",
      "------------------------------------------------------------------------------\n",
      "INDUS          0.3844      0.034     11.175      0.000       0.317       0.452\n",
      "==============================================================================\n",
      "Omnibus:                      432.129   Durbin-Watson:                   2.020\n",
      "Prob(Omnibus):                  0.000   Jarque-Bera (JB):            29524.649\n",
      "Skew:                           5.667   Prob(JB):                         0.00\n",
      "Kurtosis:                      46.281   Cond. No.                         1.00\n",
      "==============================================================================\n",
      "\n",
      "Notes:\n",
      "[1] R² is computed without centering (uncentered) since the model does not contain a constant.\n",
      "[2] Standard Errors assume that the covariance matrix of the errors is correctly specified.\n"
     ]
    }
   ],
   "source": [
    "r = smf.OLS(y_train,X_train)\n",
    "r2 = r.fit()\n",
    "print(r2.summary())"
   ]
  },
  {
   "cell_type": "code",
   "execution_count": 79,
   "id": "ad1ca61e",
   "metadata": {},
   "outputs": [
    {
     "data": {
      "text/plain": [
       "INDUS    0.384403\n",
       "dtype: float64"
      ]
     },
     "execution_count": 79,
     "metadata": {},
     "output_type": "execute_result"
    }
   ],
   "source": [
    "b = r2.params\n",
    "b"
   ]
  },
  {
   "cell_type": "markdown",
   "id": "8f953f80",
   "metadata": {},
   "source": [
    "# CHAS vs CRIM"
   ]
  },
  {
   "cell_type": "code",
   "execution_count": 49,
   "id": "7cd5a542",
   "metadata": {},
   "outputs": [],
   "source": [
    "X_train, X_test, y_train, y_test = train_test_split(df['CHAS'], df['CRIM'], test_size=0.10, random_state=0)"
   ]
  },
  {
   "cell_type": "code",
   "execution_count": 50,
   "id": "5837b197",
   "metadata": {},
   "outputs": [
    {
     "name": "stdout",
     "output_type": "stream",
     "text": [
      "                                 OLS Regression Results                                \n",
      "=======================================================================================\n",
      "Dep. Variable:                   CRIM   R-squared (uncentered):                   0.003\n",
      "Model:                            OLS   Adj. R-squared (uncentered):              0.000\n",
      "Method:                 Least Squares   F-statistic:                              1.113\n",
      "Date:                Fri, 29 Apr 2022   Prob (F-statistic):                       0.292\n",
      "Time:                        22:32:49   Log-Likelihood:                         -1304.6\n",
      "No. Observations:                 354   AIC:                                      2611.\n",
      "Df Residuals:                     353   BIC:                                      2615.\n",
      "Df Model:                           1                                                  \n",
      "Covariance Type:            nonrobust                                                  \n",
      "==============================================================================\n",
      "                 coef    std err          t      P>|t|      [0.025      0.975]\n",
      "------------------------------------------------------------------------------\n",
      "CHAS           1.9981      1.894      1.055      0.292      -1.727       5.724\n",
      "==============================================================================\n",
      "Omnibus:                      407.230   Durbin-Watson:                   1.746\n",
      "Prob(Omnibus):                  0.000   Jarque-Bera (JB):            21067.664\n",
      "Skew:                           5.229   Prob(JB):                         0.00\n",
      "Kurtosis:                      39.317   Cond. No.                         1.00\n",
      "==============================================================================\n",
      "\n",
      "Notes:\n",
      "[1] R² is computed without centering (uncentered) since the model does not contain a constant.\n",
      "[2] Standard Errors assume that the covariance matrix of the errors is correctly specified.\n"
     ]
    }
   ],
   "source": [
    "r = smf.OLS(y_train,X_train)\n",
    "r3 = r.fit()\n",
    "print(r3.summary())"
   ]
  },
  {
   "cell_type": "code",
   "execution_count": 80,
   "id": "74cb5241",
   "metadata": {},
   "outputs": [
    {
     "data": {
      "text/plain": [
       "CHAS    1.998132\n",
       "dtype: float64"
      ]
     },
     "execution_count": 80,
     "metadata": {},
     "output_type": "execute_result"
    }
   ],
   "source": [
    "c = r3.params\n",
    "c"
   ]
  },
  {
   "cell_type": "markdown",
   "id": "e2ac55f1",
   "metadata": {},
   "source": [
    "# NOX vs CRIM"
   ]
  },
  {
   "cell_type": "code",
   "execution_count": 51,
   "id": "c4c434ee",
   "metadata": {},
   "outputs": [],
   "source": [
    "X_train, X_test, y_train, y_test = train_test_split(df['NOX'], df['CRIM'], test_size=0.10, random_state=0)"
   ]
  },
  {
   "cell_type": "code",
   "execution_count": 52,
   "id": "33880efd",
   "metadata": {},
   "outputs": [
    {
     "name": "stdout",
     "output_type": "stream",
     "text": [
      "                                 OLS Regression Results                                \n",
      "=======================================================================================\n",
      "Dep. Variable:                   CRIM   R-squared (uncentered):                   0.195\n",
      "Model:                            OLS   Adj. R-squared (uncentered):              0.193\n",
      "Method:                 Least Squares   F-statistic:                              85.41\n",
      "Date:                Fri, 29 Apr 2022   Prob (F-statistic):                    2.34e-18\n",
      "Time:                        22:32:53   Log-Likelihood:                         -1266.8\n",
      "No. Observations:                 354   AIC:                                      2536.\n",
      "Df Residuals:                     353   BIC:                                      2540.\n",
      "Df Model:                           1                                                  \n",
      "Covariance Type:            nonrobust                                                  \n",
      "==============================================================================\n",
      "                 coef    std err          t      P>|t|      [0.025      0.975]\n",
      "------------------------------------------------------------------------------\n",
      "NOX            7.5669      0.819      9.242      0.000       5.957       9.177\n",
      "==============================================================================\n",
      "Omnibus:                      426.333   Durbin-Watson:                   2.001\n",
      "Prob(Omnibus):                  0.000   Jarque-Bera (JB):            26097.510\n",
      "Skew:                           5.587   Prob(JB):                         0.00\n",
      "Kurtosis:                      43.552   Cond. No.                         1.00\n",
      "==============================================================================\n",
      "\n",
      "Notes:\n",
      "[1] R² is computed without centering (uncentered) since the model does not contain a constant.\n",
      "[2] Standard Errors assume that the covariance matrix of the errors is correctly specified.\n"
     ]
    }
   ],
   "source": [
    "r = smf.OLS(y_train,X_train)\n",
    "r4 = r.fit()\n",
    "print(r4.summary())"
   ]
  },
  {
   "cell_type": "code",
   "execution_count": 81,
   "id": "aefa7468",
   "metadata": {},
   "outputs": [
    {
     "data": {
      "text/plain": [
       "NOX    7.56695\n",
       "dtype: float64"
      ]
     },
     "execution_count": 81,
     "metadata": {},
     "output_type": "execute_result"
    }
   ],
   "source": [
    "d = r4.params\n",
    "d"
   ]
  },
  {
   "cell_type": "markdown",
   "id": "dbd72209",
   "metadata": {},
   "source": [
    "# RM vs CRIM"
   ]
  },
  {
   "cell_type": "code",
   "execution_count": 53,
   "id": "233d2222",
   "metadata": {},
   "outputs": [],
   "source": [
    "X_train, X_test, y_train, y_test = train_test_split(df['RM'], df['CRIM'], test_size=0.10, random_state=0)"
   ]
  },
  {
   "cell_type": "code",
   "execution_count": 54,
   "id": "166d8f77",
   "metadata": {},
   "outputs": [
    {
     "name": "stdout",
     "output_type": "stream",
     "text": [
      "                                 OLS Regression Results                                \n",
      "=======================================================================================\n",
      "Dep. Variable:                   CRIM   R-squared (uncentered):                   0.119\n",
      "Model:                            OLS   Adj. R-squared (uncentered):              0.117\n",
      "Method:                 Least Squares   F-statistic:                              47.74\n",
      "Date:                Fri, 29 Apr 2022   Prob (F-statistic):                    2.28e-11\n",
      "Time:                        22:33:00   Log-Likelihood:                         -1282.7\n",
      "No. Observations:                 354   AIC:                                      2567.\n",
      "Df Residuals:                     353   BIC:                                      2571.\n",
      "Df Model:                           1                                                  \n",
      "Covariance Type:            nonrobust                                                  \n",
      "==============================================================================\n",
      "                 coef    std err          t      P>|t|      [0.025      0.975]\n",
      "------------------------------------------------------------------------------\n",
      "RM             0.5267      0.076      6.910      0.000       0.377       0.677\n",
      "==============================================================================\n",
      "Omnibus:                      402.476   Durbin-Watson:                   2.005\n",
      "Prob(Omnibus):                  0.000   Jarque-Bera (JB):            19791.283\n",
      "Skew:                           5.147   Prob(JB):                         0.00\n",
      "Kurtosis:                      38.154   Cond. No.                         1.00\n",
      "==============================================================================\n",
      "\n",
      "Notes:\n",
      "[1] R² is computed without centering (uncentered) since the model does not contain a constant.\n",
      "[2] Standard Errors assume that the covariance matrix of the errors is correctly specified.\n"
     ]
    }
   ],
   "source": [
    "r = smf.OLS(y_train,X_train)\n",
    "r5 = r.fit()\n",
    "print(r5.summary())"
   ]
  },
  {
   "cell_type": "code",
   "execution_count": 82,
   "id": "b4a68a2b",
   "metadata": {},
   "outputs": [
    {
     "data": {
      "text/plain": [
       "RM    0.526658\n",
       "dtype: float64"
      ]
     },
     "execution_count": 82,
     "metadata": {},
     "output_type": "execute_result"
    }
   ],
   "source": [
    "e = r5.params\n",
    "e"
   ]
  },
  {
   "cell_type": "markdown",
   "id": "cf8b64aa",
   "metadata": {},
   "source": [
    "# AGE vs CRIM"
   ]
  },
  {
   "cell_type": "code",
   "execution_count": 55,
   "id": "50bdb48b",
   "metadata": {},
   "outputs": [],
   "source": [
    "X_train, X_test, y_train, y_test = train_test_split(df['AGE'], df['CRIM'], test_size=0.10, random_state=0)"
   ]
  },
  {
   "cell_type": "code",
   "execution_count": 56,
   "id": "d8d13d65",
   "metadata": {},
   "outputs": [
    {
     "name": "stdout",
     "output_type": "stream",
     "text": [
      "                                 OLS Regression Results                                \n",
      "=======================================================================================\n",
      "Dep. Variable:                   CRIM   R-squared (uncentered):                   0.215\n",
      "Model:                            OLS   Adj. R-squared (uncentered):              0.213\n",
      "Method:                 Least Squares   F-statistic:                              96.58\n",
      "Date:                Fri, 29 Apr 2022   Prob (F-statistic):                    2.63e-20\n",
      "Time:                        22:33:06   Log-Likelihood:                         -1262.4\n",
      "No. Observations:                 354   AIC:                                      2527.\n",
      "Df Residuals:                     353   BIC:                                      2531.\n",
      "Df Model:                           1                                                  \n",
      "Covariance Type:            nonrobust                                                  \n",
      "==============================================================================\n",
      "                 coef    std err          t      P>|t|      [0.025      0.975]\n",
      "------------------------------------------------------------------------------\n",
      "AGE            0.0604      0.006      9.827      0.000       0.048       0.072\n",
      "==============================================================================\n",
      "Omnibus:                      424.958   Durbin-Watson:                   1.998\n",
      "Prob(Omnibus):                  0.000   Jarque-Bera (JB):            26419.892\n",
      "Skew:                           5.546   Prob(JB):                         0.00\n",
      "Kurtosis:                      43.843   Cond. No.                         1.00\n",
      "==============================================================================\n",
      "\n",
      "Notes:\n",
      "[1] R² is computed without centering (uncentered) since the model does not contain a constant.\n",
      "[2] Standard Errors assume that the covariance matrix of the errors is correctly specified.\n"
     ]
    }
   ],
   "source": [
    "r = smf.OLS(y_train,X_train)\n",
    "r6 = r.fit()\n",
    "print(r6.summary())"
   ]
  },
  {
   "cell_type": "code",
   "execution_count": 83,
   "id": "5f67d80b",
   "metadata": {},
   "outputs": [
    {
     "data": {
      "text/plain": [
       "AGE    0.060382\n",
       "dtype: float64"
      ]
     },
     "execution_count": 83,
     "metadata": {},
     "output_type": "execute_result"
    }
   ],
   "source": [
    "f = r6.params\n",
    "f"
   ]
  },
  {
   "cell_type": "markdown",
   "id": "94d6aafe",
   "metadata": {},
   "source": [
    "# DIS vs CRIM"
   ]
  },
  {
   "cell_type": "code",
   "execution_count": 58,
   "id": "68894c09",
   "metadata": {},
   "outputs": [],
   "source": [
    "X_train, X_test, y_train, y_test = train_test_split(df['DIS'], df['CRIM'], test_size=0.10, random_state=0)"
   ]
  },
  {
   "cell_type": "code",
   "execution_count": 59,
   "id": "3fcfe929",
   "metadata": {},
   "outputs": [
    {
     "name": "stdout",
     "output_type": "stream",
     "text": [
      "                                 OLS Regression Results                                \n",
      "=======================================================================================\n",
      "Dep. Variable:                   CRIM   R-squared (uncentered):                   0.026\n",
      "Model:                            OLS   Adj. R-squared (uncentered):              0.023\n",
      "Method:                 Least Squares   F-statistic:                              9.487\n",
      "Date:                Fri, 29 Apr 2022   Prob (F-statistic):                     0.00223\n",
      "Time:                        22:33:40   Log-Likelihood:                         -1300.5\n",
      "No. Observations:                 354   AIC:                                      2603.\n",
      "Df Residuals:                     353   BIC:                                      2607.\n",
      "Df Model:                           1                                                  \n",
      "Covariance Type:            nonrobust                                                  \n",
      "==============================================================================\n",
      "                 coef    std err          t      P>|t|      [0.025      0.975]\n",
      "------------------------------------------------------------------------------\n",
      "DIS            0.3584      0.116      3.080      0.002       0.130       0.587\n",
      "==============================================================================\n",
      "Omnibus:                      393.030   Durbin-Watson:                   1.908\n",
      "Prob(Omnibus):                  0.000   Jarque-Bera (JB):            18012.484\n",
      "Skew:                           4.971   Prob(JB):                         0.00\n",
      "Kurtosis:                      36.501   Cond. No.                         1.00\n",
      "==============================================================================\n",
      "\n",
      "Notes:\n",
      "[1] R² is computed without centering (uncentered) since the model does not contain a constant.\n",
      "[2] Standard Errors assume that the covariance matrix of the errors is correctly specified.\n"
     ]
    }
   ],
   "source": [
    "r = smf.OLS(y_train,X_train)\n",
    "r7 = r.fit()\n",
    "print(r7.summary())"
   ]
  },
  {
   "cell_type": "code",
   "execution_count": 84,
   "id": "92cce488",
   "metadata": {},
   "outputs": [
    {
     "data": {
      "text/plain": [
       "DIS    0.358353\n",
       "dtype: float64"
      ]
     },
     "execution_count": 84,
     "metadata": {},
     "output_type": "execute_result"
    }
   ],
   "source": [
    "g = r7.params\n",
    "g"
   ]
  },
  {
   "cell_type": "markdown",
   "id": "3374b117",
   "metadata": {},
   "source": [
    "# RAD vs CRIM"
   ]
  },
  {
   "cell_type": "code",
   "execution_count": 60,
   "id": "1f27fc7a",
   "metadata": {},
   "outputs": [],
   "source": [
    "X_train, X_test, y_train, y_test = train_test_split(df['RAD'], df['CRIM'], test_size=0.10, random_state=0)"
   ]
  },
  {
   "cell_type": "code",
   "execution_count": 61,
   "id": "f09a0fbd",
   "metadata": {},
   "outputs": [
    {
     "name": "stdout",
     "output_type": "stream",
     "text": [
      "                                 OLS Regression Results                                \n",
      "=======================================================================================\n",
      "Dep. Variable:                   CRIM   R-squared (uncentered):                   0.444\n",
      "Model:                            OLS   Adj. R-squared (uncentered):              0.442\n",
      "Method:                 Least Squares   F-statistic:                              281.7\n",
      "Date:                Fri, 29 Apr 2022   Prob (F-statistic):                    6.74e-47\n",
      "Time:                        22:34:35   Log-Likelihood:                         -1201.3\n",
      "No. Observations:                 354   AIC:                                      2405.\n",
      "Df Residuals:                     353   BIC:                                      2409.\n",
      "Df Model:                           1                                                  \n",
      "Covariance Type:            nonrobust                                                  \n",
      "==============================================================================\n",
      "                 coef    std err          t      P>|t|      [0.025      0.975]\n",
      "------------------------------------------------------------------------------\n",
      "RAD            0.5164      0.031     16.785      0.000       0.456       0.577\n",
      "==============================================================================\n",
      "Omnibus:                      489.921   Durbin-Watson:                   2.034\n",
      "Prob(Omnibus):                  0.000   Jarque-Bera (JB):            56103.090\n",
      "Skew:                           6.870   Prob(JB):                         0.00\n",
      "Kurtosis:                      63.123   Cond. No.                         1.00\n",
      "==============================================================================\n",
      "\n",
      "Notes:\n",
      "[1] R² is computed without centering (uncentered) since the model does not contain a constant.\n",
      "[2] Standard Errors assume that the covariance matrix of the errors is correctly specified.\n"
     ]
    }
   ],
   "source": [
    "r = smf.OLS(y_train,X_train)\n",
    "r8 = r.fit()\n",
    "print(r8.summary())"
   ]
  },
  {
   "cell_type": "code",
   "execution_count": 85,
   "id": "57dcf2f2",
   "metadata": {},
   "outputs": [
    {
     "data": {
      "text/plain": [
       "RAD    0.516365\n",
       "dtype: float64"
      ]
     },
     "execution_count": 85,
     "metadata": {},
     "output_type": "execute_result"
    }
   ],
   "source": [
    "h = r8.params\n",
    "h"
   ]
  },
  {
   "cell_type": "markdown",
   "id": "aa96509f",
   "metadata": {},
   "source": [
    "# TAX vs CRIM"
   ]
  },
  {
   "cell_type": "code",
   "execution_count": 62,
   "id": "53610975",
   "metadata": {},
   "outputs": [],
   "source": [
    "X_train, X_test, y_train, y_test = train_test_split(df['TAX'], df['CRIM'], test_size=0.10, random_state=0)"
   ]
  },
  {
   "cell_type": "code",
   "execution_count": 63,
   "id": "a2278b8a",
   "metadata": {},
   "outputs": [
    {
     "name": "stdout",
     "output_type": "stream",
     "text": [
      "                                 OLS Regression Results                                \n",
      "=======================================================================================\n",
      "Dep. Variable:                   CRIM   R-squared (uncentered):                   0.297\n",
      "Model:                            OLS   Adj. R-squared (uncentered):              0.295\n",
      "Method:                 Least Squares   F-statistic:                              149.4\n",
      "Date:                Fri, 29 Apr 2022   Prob (F-statistic):                    6.77e-29\n",
      "Time:                        22:35:22   Log-Likelihood:                         -1242.7\n",
      "No. Observations:                 354   AIC:                                      2487.\n",
      "Df Residuals:                     353   BIC:                                      2491.\n",
      "Df Model:                           1                                                  \n",
      "Covariance Type:            nonrobust                                                  \n",
      "==============================================================================\n",
      "                 coef    std err          t      P>|t|      [0.025      0.975]\n",
      "------------------------------------------------------------------------------\n",
      "TAX            0.0121      0.001     12.224      0.000       0.010       0.014\n",
      "==============================================================================\n",
      "Omnibus:                      458.466   Durbin-Watson:                   1.980\n",
      "Prob(Omnibus):                  0.000   Jarque-Bera (JB):            37632.952\n",
      "Skew:                           6.223   Prob(JB):                         0.00\n",
      "Kurtosis:                      51.954   Cond. No.                         1.00\n",
      "==============================================================================\n",
      "\n",
      "Notes:\n",
      "[1] R² is computed without centering (uncentered) since the model does not contain a constant.\n",
      "[2] Standard Errors assume that the covariance matrix of the errors is correctly specified.\n"
     ]
    }
   ],
   "source": [
    "r = smf.OLS(y_train,X_train)\n",
    "r9 = r.fit()\n",
    "print(r9.summary())"
   ]
  },
  {
   "cell_type": "code",
   "execution_count": 86,
   "id": "0ad60aaf",
   "metadata": {},
   "outputs": [
    {
     "data": {
      "text/plain": [
       "TAX    0.012104\n",
       "dtype: float64"
      ]
     },
     "execution_count": 86,
     "metadata": {},
     "output_type": "execute_result"
    }
   ],
   "source": [
    "i = r9.params\n",
    "i"
   ]
  },
  {
   "cell_type": "markdown",
   "id": "30fe411c",
   "metadata": {},
   "source": [
    "# PTRATIO vs CRIM"
   ]
  },
  {
   "cell_type": "code",
   "execution_count": 64,
   "id": "f7ddd80a",
   "metadata": {},
   "outputs": [],
   "source": [
    "X_train, X_test, y_train, y_test = train_test_split(df['PTRATIO'], df['CRIM'], test_size=0.10, random_state=0)"
   ]
  },
  {
   "cell_type": "code",
   "execution_count": 65,
   "id": "fa477b20",
   "metadata": {},
   "outputs": [
    {
     "name": "stdout",
     "output_type": "stream",
     "text": [
      "                                 OLS Regression Results                                \n",
      "=======================================================================================\n",
      "Dep. Variable:                   CRIM   R-squared (uncentered):                   0.158\n",
      "Model:                            OLS   Adj. R-squared (uncentered):              0.156\n",
      "Method:                 Least Squares   F-statistic:                              66.19\n",
      "Date:                Fri, 29 Apr 2022   Prob (F-statistic):                    7.06e-15\n",
      "Time:                        22:36:07   Log-Likelihood:                         -1274.8\n",
      "No. Observations:                 354   AIC:                                      2552.\n",
      "Df Residuals:                     353   BIC:                                      2555.\n",
      "Df Model:                           1                                                  \n",
      "Covariance Type:            nonrobust                                                  \n",
      "==============================================================================\n",
      "                 coef    std err          t      P>|t|      [0.025      0.975]\n",
      "------------------------------------------------------------------------------\n",
      "PTRATIO        0.2058      0.025      8.136      0.000       0.156       0.256\n",
      "==============================================================================\n",
      "Omnibus:                      413.819   Durbin-Watson:                   2.016\n",
      "Prob(Omnibus):                  0.000   Jarque-Bera (JB):            22772.619\n",
      "Skew:                           5.348   Prob(JB):                         0.00\n",
      "Kurtosis:                      40.808   Cond. No.                         1.00\n",
      "==============================================================================\n",
      "\n",
      "Notes:\n",
      "[1] R² is computed without centering (uncentered) since the model does not contain a constant.\n",
      "[2] Standard Errors assume that the covariance matrix of the errors is correctly specified.\n"
     ]
    }
   ],
   "source": [
    "r = smf.OLS(y_train,X_train)\n",
    "r10 = r.fit()\n",
    "print(r10.summary())"
   ]
  },
  {
   "cell_type": "code",
   "execution_count": 87,
   "id": "f004b185",
   "metadata": {},
   "outputs": [
    {
     "data": {
      "text/plain": [
       "PTRATIO    0.205846\n",
       "dtype: float64"
      ]
     },
     "execution_count": 87,
     "metadata": {},
     "output_type": "execute_result"
    }
   ],
   "source": [
    "j = r10.params\n",
    "j"
   ]
  },
  {
   "cell_type": "markdown",
   "id": "732058ac",
   "metadata": {},
   "source": [
    "# B vs CRIM"
   ]
  },
  {
   "cell_type": "code",
   "execution_count": 66,
   "id": "01f7e873",
   "metadata": {},
   "outputs": [],
   "source": [
    "X_train, X_test, y_train, y_test = train_test_split(df['B'], df['CRIM'], test_size=0.10, random_state=0)"
   ]
  },
  {
   "cell_type": "code",
   "execution_count": 67,
   "id": "e2a5c041",
   "metadata": {},
   "outputs": [
    {
     "name": "stdout",
     "output_type": "stream",
     "text": [
      "                                 OLS Regression Results                                \n",
      "=======================================================================================\n",
      "Dep. Variable:                   CRIM   R-squared (uncentered):                   0.070\n",
      "Model:                            OLS   Adj. R-squared (uncentered):              0.067\n",
      "Method:                 Least Squares   F-statistic:                              26.56\n",
      "Date:                Fri, 29 Apr 2022   Prob (F-statistic):                    4.27e-07\n",
      "Time:                        22:36:58   Log-Likelihood:                         -1292.3\n",
      "No. Observations:                 354   AIC:                                      2587.\n",
      "Df Residuals:                     353   BIC:                                      2591.\n",
      "Df Model:                           1                                                  \n",
      "Covariance Type:            nonrobust                                                  \n",
      "==============================================================================\n",
      "                 coef    std err          t      P>|t|      [0.025      0.975]\n",
      "------------------------------------------------------------------------------\n",
      "B              0.0069      0.001      5.153      0.000       0.004       0.010\n",
      "==============================================================================\n",
      "Omnibus:                      396.898   Durbin-Watson:                   1.983\n",
      "Prob(Omnibus):                  0.000   Jarque-Bera (JB):            18498.392\n",
      "Skew:                           5.049   Prob(JB):                         0.00\n",
      "Kurtosis:                      36.943   Cond. No.                         1.00\n",
      "==============================================================================\n",
      "\n",
      "Notes:\n",
      "[1] R² is computed without centering (uncentered) since the model does not contain a constant.\n",
      "[2] Standard Errors assume that the covariance matrix of the errors is correctly specified.\n"
     ]
    }
   ],
   "source": [
    "r = smf.OLS(y_train,X_train)\n",
    "r11 = r.fit()\n",
    "print(r11.summary())"
   ]
  },
  {
   "cell_type": "code",
   "execution_count": 88,
   "id": "dedcb038",
   "metadata": {},
   "outputs": [
    {
     "data": {
      "text/plain": [
       "B    0.006921\n",
       "dtype: float64"
      ]
     },
     "execution_count": 88,
     "metadata": {},
     "output_type": "execute_result"
    }
   ],
   "source": [
    "k = r11.params\n",
    "k"
   ]
  },
  {
   "cell_type": "markdown",
   "id": "fd485b21",
   "metadata": {},
   "source": [
    "# LSTAT vs CRIM"
   ]
  },
  {
   "cell_type": "code",
   "execution_count": 69,
   "id": "8fc22838",
   "metadata": {},
   "outputs": [],
   "source": [
    "X_train, X_test, y_train, y_test = train_test_split(df['LSTAT'], df['CRIM'], test_size=0.10, random_state=0)"
   ]
  },
  {
   "cell_type": "code",
   "execution_count": 70,
   "id": "cb31cd0a",
   "metadata": {},
   "outputs": [
    {
     "name": "stdout",
     "output_type": "stream",
     "text": [
      "                                 OLS Regression Results                                \n",
      "=======================================================================================\n",
      "Dep. Variable:                   CRIM   R-squared (uncentered):                   0.292\n",
      "Model:                            OLS   Adj. R-squared (uncentered):              0.290\n",
      "Method:                 Least Squares   F-statistic:                              145.8\n",
      "Date:                Fri, 29 Apr 2022   Prob (F-statistic):                    2.41e-28\n",
      "Time:                        22:37:48   Log-Likelihood:                         -1244.0\n",
      "No. Observations:                 354   AIC:                                      2490.\n",
      "Df Residuals:                     353   BIC:                                      2494.\n",
      "Df Model:                           1                                                  \n",
      "Covariance Type:            nonrobust                                                  \n",
      "==============================================================================\n",
      "                 coef    std err          t      P>|t|      [0.025      0.975]\n",
      "------------------------------------------------------------------------------\n",
      "LSTAT          0.3537      0.029     12.077      0.000       0.296       0.411\n",
      "==============================================================================\n",
      "Omnibus:                      454.742   Durbin-Watson:                   1.990\n",
      "Prob(Omnibus):                  0.000   Jarque-Bera (JB):            38605.913\n",
      "Skew:                           6.109   Prob(JB):                         0.00\n",
      "Kurtosis:                      52.680   Cond. No.                         1.00\n",
      "==============================================================================\n",
      "\n",
      "Notes:\n",
      "[1] R² is computed without centering (uncentered) since the model does not contain a constant.\n",
      "[2] Standard Errors assume that the covariance matrix of the errors is correctly specified.\n"
     ]
    }
   ],
   "source": [
    "r = smf.OLS(y_train,X_train)\n",
    "r12 = r.fit()\n",
    "print(r12.summary())"
   ]
  },
  {
   "cell_type": "code",
   "execution_count": 89,
   "id": "133b025d",
   "metadata": {},
   "outputs": [
    {
     "data": {
      "text/plain": [
       "LSTAT    0.353734\n",
       "dtype: float64"
      ]
     },
     "execution_count": 89,
     "metadata": {},
     "output_type": "execute_result"
    }
   ],
   "source": [
    "l = r12.params\n",
    "l"
   ]
  },
  {
   "cell_type": "markdown",
   "id": "0e43ce56",
   "metadata": {},
   "source": [
    "# MEDV vs CRIM"
   ]
  },
  {
   "cell_type": "code",
   "execution_count": 71,
   "id": "12f813b1",
   "metadata": {},
   "outputs": [],
   "source": [
    "X_train, X_test, y_train, y_test = train_test_split(df['MEDV'], df['CRIM'], test_size=0.10, random_state=0)"
   ]
  },
  {
   "cell_type": "code",
   "execution_count": 72,
   "id": "79b53e0a",
   "metadata": {},
   "outputs": [
    {
     "name": "stdout",
     "output_type": "stream",
     "text": [
      "                                 OLS Regression Results                                \n",
      "=======================================================================================\n",
      "Dep. Variable:                   CRIM   R-squared (uncentered):                   0.041\n",
      "Model:                            OLS   Adj. R-squared (uncentered):              0.038\n",
      "Method:                 Least Squares   F-statistic:                              15.10\n",
      "Date:                Fri, 29 Apr 2022   Prob (F-statistic):                    0.000122\n",
      "Time:                        22:38:35   Log-Likelihood:                         -1297.8\n",
      "No. Observations:                 354   AIC:                                      2598.\n",
      "Df Residuals:                     353   BIC:                                      2601.\n",
      "Df Model:                           1                                                  \n",
      "Covariance Type:            nonrobust                                                  \n",
      "==============================================================================\n",
      "                 coef    std err          t      P>|t|      [0.025      0.975]\n",
      "------------------------------------------------------------------------------\n",
      "MEDV           0.0810      0.021      3.886      0.000       0.040       0.122\n",
      "==============================================================================\n",
      "Omnibus:                      394.218   Durbin-Watson:                   1.928\n",
      "Prob(Omnibus):                  0.000   Jarque-Bera (JB):            18118.250\n",
      "Skew:                           4.996   Prob(JB):                         0.00\n",
      "Kurtosis:                      36.593   Cond. No.                         1.00\n",
      "==============================================================================\n",
      "\n",
      "Notes:\n",
      "[1] R² is computed without centering (uncentered) since the model does not contain a constant.\n",
      "[2] Standard Errors assume that the covariance matrix of the errors is correctly specified.\n"
     ]
    }
   ],
   "source": [
    "r = smf.OLS(y_train,X_train)\n",
    "r13 = r.fit()\n",
    "print(r13.summary())"
   ]
  },
  {
   "cell_type": "code",
   "execution_count": 90,
   "id": "7f2fd7ca",
   "metadata": {},
   "outputs": [
    {
     "data": {
      "text/plain": [
       "MEDV    0.081023\n",
       "dtype: float64"
      ]
     },
     "execution_count": 90,
     "metadata": {},
     "output_type": "execute_result"
    }
   ],
   "source": [
    "m = r13.params\n",
    "m"
   ]
  },
  {
   "cell_type": "markdown",
   "id": "5735467a",
   "metadata": {},
   "source": [
    "# Multiple Regression"
   ]
  },
  {
   "cell_type": "code",
   "execution_count": 73,
   "id": "535a34f8",
   "metadata": {},
   "outputs": [],
   "source": [
    "x = df[['ZN', 'INDUS', 'CHAS', 'NOX', 'RM', 'AGE', 'DIS', 'RAD', 'TAX',\n",
    "       'PTRATIO', 'B', 'LSTAT', 'MEDV']]\n",
    "y = df['CRIM']"
   ]
  },
  {
   "cell_type": "code",
   "execution_count": 74,
   "id": "fe0bcdf2",
   "metadata": {},
   "outputs": [],
   "source": [
    "X_train, X_test, y_train, y_test = train_test_split(x, y, test_size=0.10, random_state=0)"
   ]
  },
  {
   "cell_type": "code",
   "execution_count": 75,
   "id": "1ccc7104",
   "metadata": {},
   "outputs": [
    {
     "name": "stdout",
     "output_type": "stream",
     "text": [
      "                                 OLS Regression Results                                \n",
      "=======================================================================================\n",
      "Dep. Variable:                   CRIM   R-squared (uncentered):                   0.526\n",
      "Model:                            OLS   Adj. R-squared (uncentered):              0.508\n",
      "Method:                 Least Squares   F-statistic:                              29.10\n",
      "Date:                Fri, 29 Apr 2022   Prob (F-statistic):                    1.19e-47\n",
      "Time:                        22:42:32   Log-Likelihood:                         -1173.1\n",
      "No. Observations:                 354   AIC:                                      2372.\n",
      "Df Residuals:                     341   BIC:                                      2422.\n",
      "Df Model:                          13                                                  \n",
      "Covariance Type:            nonrobust                                                  \n",
      "==============================================================================\n",
      "                 coef    std err          t      P>|t|      [0.025      0.975]\n",
      "------------------------------------------------------------------------------\n",
      "ZN             0.0423      0.023      1.864      0.063      -0.002       0.087\n",
      "INDUS         -0.0595      0.106     -0.559      0.577      -0.269       0.150\n",
      "CHAS          -1.3287      1.456     -0.913      0.362      -4.192       1.535\n",
      "NOX           -3.9550      5.628     -0.703      0.483     -15.025       7.116\n",
      "RM             1.3910      0.776      1.792      0.074      -0.136       2.918\n",
      "AGE           -0.0051      0.023     -0.222      0.824      -0.050       0.040\n",
      "DIS           -0.6908      0.325     -2.129      0.034      -1.329      -0.052\n",
      "RAD            0.5540      0.101      5.506      0.000       0.356       0.752\n",
      "TAX           -0.0032      0.006     -0.518      0.604      -0.016       0.009\n",
      "PTRATIO        0.0007      0.188      0.004      0.997      -0.368       0.370\n",
      "B             -0.0091      0.005     -1.971      0.050      -0.018   -1.79e-05\n",
      "LSTAT          0.2334      0.087      2.691      0.007       0.063       0.404\n",
      "MEDV          -0.1479      0.084     -1.755      0.080      -0.314       0.018\n",
      "==============================================================================\n",
      "Omnibus:                      477.865   Durbin-Watson:                   2.095\n",
      "Prob(Omnibus):                  0.000   Jarque-Bera (JB):            56218.069\n",
      "Skew:                           6.529   Prob(JB):                         0.00\n",
      "Kurtosis:                      63.340   Cond. No.                     8.70e+03\n",
      "==============================================================================\n",
      "\n",
      "Notes:\n",
      "[1] R² is computed without centering (uncentered) since the model does not contain a constant.\n",
      "[2] Standard Errors assume that the covariance matrix of the errors is correctly specified.\n",
      "[3] The condition number is large, 8.7e+03. This might indicate that there are\n",
      "strong multicollinearity or other numerical problems.\n"
     ]
    }
   ],
   "source": [
    "reg = smf.OLS(y_train,X_train)\n",
    "r = reg.fit()\n",
    "print(r.summary())"
   ]
  },
  {
   "cell_type": "code",
   "execution_count": 92,
   "id": "f2388609",
   "metadata": {},
   "outputs": [
    {
     "data": {
      "text/plain": [
       "ZN         0.042336\n",
       "INDUS     -0.059457\n",
       "CHAS      -1.328729\n",
       "NOX       -3.954960\n",
       "RM         1.391044\n",
       "AGE       -0.005052\n",
       "DIS       -0.690762\n",
       "RAD        0.553957\n",
       "TAX       -0.003242\n",
       "PTRATIO    0.000745\n",
       "B         -0.009058\n",
       "LSTAT      0.233391\n",
       "MEDV      -0.147881\n",
       "dtype: float64"
      ]
     },
     "execution_count": 92,
     "metadata": {},
     "output_type": "execute_result"
    }
   ],
   "source": [
    "n = r.params\n",
    "n"
   ]
  },
  {
   "cell_type": "markdown",
   "id": "b1992f67",
   "metadata": {},
   "source": [
    "### We reject the null hypothesis for the predictors AGE, TAX, B and MDEV"
   ]
  },
  {
   "cell_type": "code",
   "execution_count": 101,
   "id": "5050ab43",
   "metadata": {},
   "outputs": [],
   "source": [
    "x = [a,b,c,d,e,f,g,h,i,j,k,l,m]"
   ]
  },
  {
   "cell_type": "code",
   "execution_count": 102,
   "id": "077e1b2a",
   "metadata": {},
   "outputs": [
    {
     "name": "stdout",
     "output_type": "stream",
     "text": [
      "[0.04233611615945593, -0.05945660020619671, -1.328729251854117, -3.95496045831237, 1.3910439912311723, -0.005052047764636528, -0.6907615091088959, 0.5539570364771718, -0.003241981446087546, 0.0007447036737405488, -0.0090576609389619, 0.23339085288083317, -0.14788108637241143]\n"
     ]
    }
   ],
   "source": [
    "y = []\n",
    "for i in n:\n",
    "    y.append(i)\n",
    "print(y)"
   ]
  },
  {
   "cell_type": "code",
   "execution_count": 117,
   "id": "3970c265",
   "metadata": {},
   "outputs": [
    {
     "data": {
      "text/plain": [
       "Text(0.5, 1.0, 'Univariate vs Mulitple Regression Coefficients')"
      ]
     },
     "execution_count": 117,
     "metadata": {},
     "output_type": "execute_result"
    },
    {
     "data": {
      "image/png": "[encoded data removed]",
      "text/plain": [
       "<Figure size 432x288 with 1 Axes>"
      ]
     },
     "metadata": {},
     "output_type": "display_data"
    }
   ],
   "source": [
    "plt.scatter(x,y,c=['#1f77b4', '#ff7f0e', '#2ca02c', '#d62728', '#9467bd', '#8c564b', '#e377c2', '#7f7f7f', '#bcbd22',\n",
    "                   '#17becf','#1f77b4','#2ca02c','#9467bd'])\n",
    "plt.xlabel('Univariate Regression Coefficients')\n",
    "plt.ylabel('Multiple Regression Coeffients')\n",
    "plt.title('Univariate vs Mulitple Regression Coefficients')"
   ]
  }
 ],
 "metadata": {
  "kernelspec": {
   "display_name": "Python 3 (ipykernel)",
   "language": "python",
   "name": "python3"
  },
  "language_info": {
   "codemirror_mode": {
    "name": "ipython",
    "version": 3
   },
   "file_extension": ".py",
   "mimetype": "text/x-python",
   "name": "python",
   "nbconvert_exporter": "python",
   "pygments_lexer": "ipython3",
   "version": "3.8.8"
  }
 },
 "nbformat": 4,
 "nbformat_minor": 5
}
