{
 "cells": [
  {
   "cell_type": "code",
   "execution_count": 1,
   "id": "07315ae0",
   "metadata": {},
   "outputs": [],
   "source": [
    "import numpy as np\n",
    "import pandas as pd\n",
    "import matplotlib.pyplot as plt\n",
    "import seaborn as sns\n",
    "from sklearn.datasets import make_classification"
   ]
  },
  {
   "cell_type": "code",
   "execution_count": 2,
   "id": "3e9513ff",
   "metadata": {},
   "outputs": [],
   "source": [
    "from sklearn.model_selection import train_test_split\n",
    "X, y = make_classification(n_samples=2000, n_classes=2, weights=[1,1],random_state=1)"
   ]
  },
  {
   "cell_type": "code",
   "execution_count": null,
   "id": "7407ea42",
   "metadata": {},
   "outputs": [],
   "source": [
    "make_classification?"
   ]
  },
  {
   "cell_type": "code",
   "execution_count": 3,
   "id": "6db3a18b",
   "metadata": {},
   "outputs": [
    {
     "data": {
      "text/plain": [
       "(2000, 20)"
      ]
     },
     "execution_count": 3,
     "metadata": {},
     "output_type": "execute_result"
    }
   ],
   "source": [
    "X.shape"
   ]
  },
  {
   "cell_type": "code",
   "execution_count": 4,
   "id": "e37f0b8a",
   "metadata": {},
   "outputs": [
    {
     "data": {
      "text/plain": [
       "1    1003\n",
       "0     997\n",
       "dtype: int64"
      ]
     },
     "execution_count": 4,
     "metadata": {},
     "output_type": "execute_result"
    }
   ],
   "source": [
    "pd.Series(y).value_counts()"
   ]
  },
  {
   "cell_type": "code",
   "execution_count": null,
   "id": "044f8432",
   "metadata": {},
   "outputs": [],
   "source": [
    "y #1000 zeroes and 1000 ones"
   ]
  },
  {
   "cell_type": "code",
   "execution_count": 5,
   "id": "7f3e4db8",
   "metadata": {},
   "outputs": [],
   "source": [
    "X_train, X_test, y_train, y_test = train_test_split(X,y, test_size=0.3, random_state=1)"
   ]
  },
  {
   "cell_type": "code",
   "execution_count": 6,
   "id": "603908c1",
   "metadata": {},
   "outputs": [],
   "source": [
    "from sklearn.metrics import roc_curve\n",
    "from sklearn.metrics import roc_auc_score"
   ]
  },
  {
   "cell_type": "markdown",
   "id": "4796271c",
   "metadata": {},
   "source": [
    "#### Logistic Regression"
   ]
  },
  {
   "cell_type": "code",
   "execution_count": 7,
   "id": "1e00f94a",
   "metadata": {},
   "outputs": [
    {
     "data": {
      "text/plain": [
       "LogisticRegression()"
      ]
     },
     "execution_count": 7,
     "metadata": {},
     "output_type": "execute_result"
    }
   ],
   "source": [
    "from sklearn.linear_model import LogisticRegression\n",
    "reg = LogisticRegression()\n",
    "reg.fit(X_train, y_train)"
   ]
  },
  {
   "cell_type": "code",
   "execution_count": 8,
   "id": "bea82cb6",
   "metadata": {},
   "outputs": [
    {
     "name": "stdout",
     "output_type": "stream",
     "text": [
      "Logistic train roc-auc: 0.9863568922694498\n"
     ]
    }
   ],
   "source": [
    "y_pred = reg.predict_proba(X_train)\n",
    "print('Logistic train roc-auc: {}'.format(roc_auc_score(y_train, y_pred[:,1]))) \n",
    "#There are two columns, I'll be taking the first"
   ]
  },
  {
   "cell_type": "code",
   "execution_count": 9,
   "id": "95549919",
   "metadata": {},
   "outputs": [
    {
     "name": "stdout",
     "output_type": "stream",
     "text": [
      "Logistic test roc-auc: 0.9885777777777777\n"
     ]
    }
   ],
   "source": [
    "y_test_pred = reg.predict_proba(X_test)\n",
    "print('Logistic test roc-auc: {}'.format(roc_auc_score(y_test, y_test_pred[:, 1])))"
   ]
  },
  {
   "cell_type": "code",
   "execution_count": 10,
   "id": "c5dd377c",
   "metadata": {},
   "outputs": [
    {
     "data": {
      "text/plain": [
       "array([[9.99688479e-01, 3.11520635e-04],\n",
       "       [9.99966000e-01, 3.39995695e-05],\n",
       "       [2.09976771e-02, 9.79002323e-01],\n",
       "       ...,\n",
       "       [8.58463348e-01, 1.41536652e-01],\n",
       "       [9.99422335e-01, 5.77665099e-04],\n",
       "       [6.07714035e-01, 3.92285965e-01]])"
      ]
     },
     "execution_count": 10,
     "metadata": {},
     "output_type": "execute_result"
    }
   ],
   "source": [
    "y_pred  #First column=probability that y is 0, second column=probability that y is 1"
   ]
  },
  {
   "cell_type": "code",
   "execution_count": 11,
   "id": "0bdb693e",
   "metadata": {},
   "outputs": [
    {
     "data": {
      "text/plain": [
       "array([[8.13855047e-03, 9.91861450e-01],\n",
       "       [9.99991829e-01, 8.17123482e-06],\n",
       "       [3.30708908e-02, 9.66929109e-01],\n",
       "       ...,\n",
       "       [1.56145062e-02, 9.84385494e-01],\n",
       "       [9.98853167e-01, 1.14683329e-03],\n",
       "       [1.04598980e-02, 9.89540102e-01]])"
      ]
     },
     "execution_count": 11,
     "metadata": {},
     "output_type": "execute_result"
    }
   ],
   "source": [
    "y_test_pred"
   ]
  },
  {
   "cell_type": "markdown",
   "id": "1e5139ac",
   "metadata": {},
   "source": [
    "#### Roc curve"
   ]
  },
  {
   "cell_type": "code",
   "execution_count": 12,
   "id": "40091c2b",
   "metadata": {},
   "outputs": [],
   "source": [
    "fpr, tpr, thresholds = roc_curve(y_test, y_test_pred[:,1])"
   ]
  },
  {
   "cell_type": "code",
   "execution_count": 13,
   "id": "8631254c",
   "metadata": {},
   "outputs": [
    {
     "data": {
      "text/plain": [
       "array([1.99970150e+00, 9.99701500e-01, 9.96158877e-01, 9.96129645e-01,\n",
       "       9.47070326e-01, 9.46204924e-01, 8.65466258e-01, 8.63536252e-01,\n",
       "       8.53176377e-01, 8.50056757e-01, 8.41421435e-01, 8.39367909e-01,\n",
       "       8.15506733e-01, 8.14031083e-01, 7.10421057e-01, 6.95370907e-01,\n",
       "       6.71015565e-01, 6.37604614e-01, 6.28000190e-01, 6.25419393e-01,\n",
       "       5.85991638e-01, 5.72811301e-01, 5.44222421e-01, 5.09091565e-01,\n",
       "       5.05747727e-01, 4.25206094e-01, 4.00497635e-01, 3.57672321e-01,\n",
       "       3.57418343e-01, 3.08833885e-01, 3.04354181e-01, 2.98609914e-01,\n",
       "       2.96733938e-01, 2.62534344e-01, 2.58894947e-01, 2.46055520e-01,\n",
       "       2.13787155e-01, 8.32534990e-02, 8.12384385e-02, 5.22202002e-06,\n",
       "       4.99437632e-06, 2.17237065e-07])"
      ]
     },
     "execution_count": 13,
     "metadata": {},
     "output_type": "execute_result"
    }
   ],
   "source": [
    "thresholds"
   ]
  },
  {
   "cell_type": "code",
   "execution_count": null,
   "id": "c8e42b92",
   "metadata": {},
   "outputs": [],
   "source": [
    "#Which threshold value needs to be selected?"
   ]
  },
  {
   "cell_type": "code",
   "execution_count": 14,
   "id": "8b5dd121",
   "metadata": {},
   "outputs": [],
   "source": [
    "from sklearn.metrics import accuracy_score\n",
    "accuracy = []\n",
    "for thres in thresholds:\n",
    "    y_pred = np.where(y_test_pred[:,1]>thres,1,0) #if pred is greater than threshold, convert as 1 or 0\n",
    "    accuracy.append(accuracy_score(y_test, y_pred, normalize=True)) #apppend this accuracy score inside the list\n",
    "accuracy = pd.concat([pd.Series(thresholds), pd.Series(accuracy)],\n",
    "                    axis=1)"
   ]
  },
  {
   "cell_type": "code",
   "execution_count": 15,
   "id": "f9c4a03e",
   "metadata": {},
   "outputs": [
    {
     "data": {
      "text/html": [
       "<div>\n",
       "<style scoped>\n",
       "    .dataframe tbody tr th:only-of-type {\n",
       "        vertical-align: middle;\n",
       "    }\n",
       "\n",
       "    .dataframe tbody tr th {\n",
       "        vertical-align: top;\n",
       "    }\n",
       "\n",
       "    .dataframe thead th {\n",
       "        text-align: right;\n",
       "    }\n",
       "</style>\n",
       "<table border=\"1\" class=\"dataframe\">\n",
       "  <thead>\n",
       "    <tr style=\"text-align: right;\">\n",
       "      <th></th>\n",
       "      <th>thresholds</th>\n",
       "      <th>accuracy</th>\n",
       "    </tr>\n",
       "  </thead>\n",
       "  <tbody>\n",
       "    <tr>\n",
       "      <th>23</th>\n",
       "      <td>0.509092</td>\n",
       "      <td>0.966667</td>\n",
       "    </tr>\n",
       "    <tr>\n",
       "      <th>21</th>\n",
       "      <td>0.572811</td>\n",
       "      <td>0.965000</td>\n",
       "    </tr>\n",
       "    <tr>\n",
       "      <th>24</th>\n",
       "      <td>0.505748</td>\n",
       "      <td>0.965000</td>\n",
       "    </tr>\n",
       "    <tr>\n",
       "      <th>22</th>\n",
       "      <td>0.544222</td>\n",
       "      <td>0.965000</td>\n",
       "    </tr>\n",
       "    <tr>\n",
       "      <th>20</th>\n",
       "      <td>0.585992</td>\n",
       "      <td>0.963333</td>\n",
       "    </tr>\n",
       "  </tbody>\n",
       "</table>\n",
       "</div>"
      ],
      "text/plain": [
       "    thresholds  accuracy\n",
       "23    0.509092  0.966667\n",
       "21    0.572811  0.965000\n",
       "24    0.505748  0.965000\n",
       "22    0.544222  0.965000\n",
       "20    0.585992  0.963333"
      ]
     },
     "execution_count": 15,
     "metadata": {},
     "output_type": "execute_result"
    }
   ],
   "source": [
    "accuracy.columns = ['thresholds','accuracy']\n",
    "accuracy.sort_values(by='accuracy', ascending=False, inplace=True)\n",
    "accuracy.head()"
   ]
  },
  {
   "cell_type": "markdown",
   "id": "10514b87",
   "metadata": {},
   "source": [
    "So, we definitely go with the first threshold value\n",
    "\n",
    "Combined threshold values of all the four models, for which we got the highest accuracy"
   ]
  },
  {
   "cell_type": "code",
   "execution_count": 16,
   "id": "603b97bf",
   "metadata": {},
   "outputs": [],
   "source": [
    "def plot_roc_curve(fpr, tpr):\n",
    "    plt.plot(fpr, tpr, color='orange', label='ROC')\n",
    "    plt.plot([0,1],[0,1],color='darkblue',linestyle='--')\n",
    "    plt.xlabel('False Positive Rate')\n",
    "    plt.ylabel('True Positive Rate')\n",
    "    plt.title('Receiver Operating Characteristic (ROC) curve')\n",
    "    plt.legend()\n",
    "    plt.show()"
   ]
  },
  {
   "cell_type": "code",
   "execution_count": 17,
   "id": "19a6cb91",
   "metadata": {},
   "outputs": [
    {
     "data": {
      "image/png": "[encoded data removed]",
      "text/plain": [
       "<Figure size 432x288 with 1 Axes>"
      ]
     },
     "metadata": {
      "needs_background": "light"
     },
     "output_type": "display_data"
    }
   ],
   "source": [
    "plot_roc_curve(fpr, tpr)"
   ]
  },
  {
   "cell_type": "markdown",
   "id": "7aeb62e0",
   "metadata": {},
   "source": [
    "Using precision"
   ]
  },
  {
   "cell_type": "code",
   "execution_count": 18,
   "id": "f73b3a31",
   "metadata": {},
   "outputs": [],
   "source": [
    "import warnings\n",
    "warnings.filterwarnings('ignore')\n",
    "from sklearn.metrics import precision_score\n",
    "precision = []\n",
    "for thres in thresholds:\n",
    "    y_pred = np.where(y_test_pred[:,1]>thres,1,0) #if pred is greater than threshold, convert as 1 or 0\n",
    "    precision.append(precision_score(y_test, y_pred)) #apppend this accuracy score inside the list\n",
    "precision = pd.concat([pd.Series(thresholds), pd.Series(precision)],\n",
    "                    axis=1)"
   ]
  },
  {
   "cell_type": "code",
   "execution_count": 19,
   "id": "ab5e4be5",
   "metadata": {},
   "outputs": [
    {
     "data": {
      "text/html": [
       "<div>\n",
       "<style scoped>\n",
       "    .dataframe tbody tr th:only-of-type {\n",
       "        vertical-align: middle;\n",
       "    }\n",
       "\n",
       "    .dataframe tbody tr th {\n",
       "        vertical-align: top;\n",
       "    }\n",
       "\n",
       "    .dataframe thead th {\n",
       "        text-align: right;\n",
       "    }\n",
       "</style>\n",
       "<table border=\"1\" class=\"dataframe\">\n",
       "  <thead>\n",
       "    <tr style=\"text-align: right;\">\n",
       "      <th></th>\n",
       "      <th>thresholds</th>\n",
       "      <th>precision</th>\n",
       "    </tr>\n",
       "  </thead>\n",
       "  <tbody>\n",
       "    <tr>\n",
       "      <th>2</th>\n",
       "      <td>0.996159</td>\n",
       "      <td>1.000000</td>\n",
       "    </tr>\n",
       "    <tr>\n",
       "      <th>3</th>\n",
       "      <td>0.996130</td>\n",
       "      <td>1.000000</td>\n",
       "    </tr>\n",
       "    <tr>\n",
       "      <th>5</th>\n",
       "      <td>0.946205</td>\n",
       "      <td>0.994949</td>\n",
       "    </tr>\n",
       "    <tr>\n",
       "      <th>4</th>\n",
       "      <td>0.947070</td>\n",
       "      <td>0.994924</td>\n",
       "    </tr>\n",
       "    <tr>\n",
       "      <th>7</th>\n",
       "      <td>0.863536</td>\n",
       "      <td>0.991837</td>\n",
       "    </tr>\n",
       "  </tbody>\n",
       "</table>\n",
       "</div>"
      ],
      "text/plain": [
       "   thresholds  precision\n",
       "2    0.996159   1.000000\n",
       "3    0.996130   1.000000\n",
       "5    0.946205   0.994949\n",
       "4    0.947070   0.994924\n",
       "7    0.863536   0.991837"
      ]
     },
     "execution_count": 19,
     "metadata": {},
     "output_type": "execute_result"
    }
   ],
   "source": [
    "precision.columns = ['thresholds','precision']\n",
    "precision.sort_values(by='precision', ascending=False, inplace=True)\n",
    "precision.head()"
   ]
  },
  {
   "cell_type": "markdown",
   "id": "ed97c7de",
   "metadata": {},
   "source": [
    "Using recall"
   ]
  },
  {
   "cell_type": "code",
   "execution_count": 20,
   "id": "f6af11d6",
   "metadata": {},
   "outputs": [],
   "source": [
    "warnings.filterwarnings('ignore')\n",
    "from sklearn.metrics import recall_score\n",
    "recall = []\n",
    "for thres in thresholds:\n",
    "    y_pred = np.where(y_test_pred[:,1]>thres,1,0) #if pred is greater than threshold, convert as 1 or 0\n",
    "    recall.append(precision_score(y_test, y_pred)) #apppend this accuracy score inside the list\n",
    "recall = pd.concat([pd.Series(thresholds), pd.Series(recall)],\n",
    "                    axis=1)"
   ]
  },
  {
   "cell_type": "code",
   "execution_count": 21,
   "id": "b337fba3",
   "metadata": {},
   "outputs": [
    {
     "data": {
      "text/html": [
       "<div>\n",
       "<style scoped>\n",
       "    .dataframe tbody tr th:only-of-type {\n",
       "        vertical-align: middle;\n",
       "    }\n",
       "\n",
       "    .dataframe tbody tr th {\n",
       "        vertical-align: top;\n",
       "    }\n",
       "\n",
       "    .dataframe thead th {\n",
       "        text-align: right;\n",
       "    }\n",
       "</style>\n",
       "<table border=\"1\" class=\"dataframe\">\n",
       "  <thead>\n",
       "    <tr style=\"text-align: right;\">\n",
       "      <th></th>\n",
       "      <th>thresholds</th>\n",
       "      <th>recall</th>\n",
       "    </tr>\n",
       "  </thead>\n",
       "  <tbody>\n",
       "    <tr>\n",
       "      <th>2</th>\n",
       "      <td>0.996159</td>\n",
       "      <td>1.000000</td>\n",
       "    </tr>\n",
       "    <tr>\n",
       "      <th>3</th>\n",
       "      <td>0.996130</td>\n",
       "      <td>1.000000</td>\n",
       "    </tr>\n",
       "    <tr>\n",
       "      <th>5</th>\n",
       "      <td>0.946205</td>\n",
       "      <td>0.994949</td>\n",
       "    </tr>\n",
       "    <tr>\n",
       "      <th>4</th>\n",
       "      <td>0.947070</td>\n",
       "      <td>0.994924</td>\n",
       "    </tr>\n",
       "    <tr>\n",
       "      <th>7</th>\n",
       "      <td>0.863536</td>\n",
       "      <td>0.991837</td>\n",
       "    </tr>\n",
       "  </tbody>\n",
       "</table>\n",
       "</div>"
      ],
      "text/plain": [
       "   thresholds    recall\n",
       "2    0.996159  1.000000\n",
       "3    0.996130  1.000000\n",
       "5    0.946205  0.994949\n",
       "4    0.947070  0.994924\n",
       "7    0.863536  0.991837"
      ]
     },
     "execution_count": 21,
     "metadata": {},
     "output_type": "execute_result"
    }
   ],
   "source": [
    "recall.columns = ['thresholds','recall']\n",
    "recall.sort_values(by='recall', ascending=False, inplace=True)\n",
    "recall.head()  #The higher threshold essentially does a better job classifying"
   ]
  }
 ],
 "metadata": {
  "kernelspec": {
   "display_name": "Python 3 (ipykernel)",
   "language": "python",
   "name": "python3"
  },
  "language_info": {
   "codemirror_mode": {
    "name": "ipython",
    "version": 3
   },
   "file_extension": ".py",
   "mimetype": "text/x-python",
   "name": "python",
   "nbconvert_exporter": "python",
   "pygments_lexer": "ipython3",
   "version": "3.8.8"
  }
 },
 "nbformat": 4,
 "nbformat_minor": 5
}
